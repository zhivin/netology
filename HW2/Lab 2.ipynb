{
 "cells": [
  {
   "cell_type": "code",
   "execution_count": 1,
   "metadata": {},
   "outputs": [],
   "source": [
    "# 1. Дан произвольный список, содержащий только числа. Выведите результат сложения всех чисел больше 10."
   ]
  },
  {
   "cell_type": "code",
   "execution_count": 17,
   "metadata": {},
   "outputs": [
    {
     "name": "stdout",
     "output_type": "stream",
     "text": [
      "введите x: 10\n",
      "введите y: 15\n",
      "60\n"
     ]
    }
   ],
   "source": [
    "x = int(input('введите x: '))\n",
    "y = int(input('введите y: '))\n",
    "a = []\n",
    "for i in range(x,y):\n",
    "    if i >= 10:\n",
    "        a.append(i)\n",
    "print(sum(a))"
   ]
  },
  {
   "cell_type": "code",
   "execution_count": 18,
   "metadata": {},
   "outputs": [],
   "source": [
    "# 2. Пусть задан список, содержащий строки. Выведите все строки, заканчивающиеся буковой r."
   ]
  },
  {
   "cell_type": "code",
   "execution_count": 139,
   "metadata": {},
   "outputs": [
    {
     "name": "stdout",
     "output_type": "stream",
     "text": [
      "['fvnejrvnrtr', 'иапиапиаr', 'сериалы про спорr']\n"
     ]
    }
   ],
   "source": [
    "list = ['fvnejrvnrtr','иапиапиаr','афиша кино','курс доллара',\n",
    "'сериалы этим летом','курс по питону','сериалы про спорr']\n",
    "\n",
    "a = []\n",
    "\n",
    "for i in list:\n",
    "    if i[-1] == 'r':\n",
    "        a.append(i)\n",
    "    \n",
    "print(a)"
   ]
  },
  {
   "cell_type": "code",
   "execution_count": 21,
   "metadata": {},
   "outputs": [],
   "source": [
    "# 3. Сгенерируйте и выведите cлучайную строку размером 6 символов, содержащую только цифры. Строка должна\n",
    "# содержать хотя бы одну цифру 3."
   ]
  },
  {
   "cell_type": "code",
   "execution_count": 37,
   "metadata": {},
   "outputs": [
    {
     "name": "stdout",
     "output_type": "stream",
     "text": [
      "485013\n"
     ]
    }
   ],
   "source": [
    "import string\n",
    "import random\n",
    "\n",
    "a = str('3')\n",
    "\n",
    "def number_gen(size = 5, numbers = string.digits):\n",
    "    return ''.join(random.choice(numbers) for i in range(size))\n",
    "\n",
    "print(number_gen() + (a))\n"
   ]
  },
  {
   "cell_type": "code",
   "execution_count": null,
   "metadata": {},
   "outputs": [],
   "source": [
    "# 4. Пусть дана строка произвольной длины. Выведите информацию о том, сколько в ней символов и сколько слов."
   ]
  },
  {
   "cell_type": "code",
   "execution_count": 51,
   "metadata": {},
   "outputs": [
    {
     "name": "stdout",
     "output_type": "stream",
     "text": [
      "Введите строку произвольной длины: Пусть дана строка произвольной длины\n",
      "кол-во символов в строке:  36\n",
      "кол-во слов в строке:  5\n"
     ]
    }
   ],
   "source": [
    "title = input('введите строку произвольной длины: ')\n",
    "\n",
    "symbol_count = len(title)\n",
    "\n",
    "for word in title:\n",
    "    word_count = 0\n",
    "    for word in title.split(' '):\n",
    "        word_count = word_count + 1\n",
    "        \n",
    "print('кол-во символов в строке: ', symbol_count)\n",
    "print('кол-во слов в строке: ', word_count)"
   ]
  },
  {
   "cell_type": "code",
   "execution_count": null,
   "metadata": {},
   "outputs": [],
   "source": [
    "# 5. Пусть дана матрица чисел размером NхN. Представьте данную матрицу в виде списка. Выведите результат сложения\n",
    "# всех элементов матрицы."
   ]
  },
  {
   "cell_type": "code",
   "execution_count": 68,
   "metadata": {},
   "outputs": [
    {
     "name": "stdout",
     "output_type": "stream",
     "text": [
      "введите размер матрицы: 5\n",
      "сумма элемнтов матрицы:  550\n"
     ]
    }
   ],
   "source": [
    "n = int(input('введите размер матрицы: '))\n",
    "a = []\n",
    "k = 10\n",
    "\n",
    "for row in range(n):  \n",
    "    a.append([])  \n",
    "    for colunm in range(n):  \n",
    "        a[row].append(k)  \n",
    "        k += 1  \n",
    "    \n",
    "print('сумма элемнтов матрицы: ', sum(map(sum, a)))\n"
   ]
  },
  {
   "cell_type": "code",
   "execution_count": null,
   "metadata": {},
   "outputs": [],
   "source": [
    "# 6. Пусть список студентов представлен в виде структуры [[No, ФИО, Возраст,Группа],[No, ФИО, Возраст, Группа],[No, ФИО,\n",
    "# Возраст, Группа]]. Преобразуйте список в словарь вида: {No: [ФИО, Возраст, Группа], No:[....], No: [....]}"
   ]
  },
  {
   "cell_type": "code",
   "execution_count": 12,
   "metadata": {},
   "outputs": [
    {
     "data": {
      "text/plain": [
       "{'No 1': ['Иванов И.А', '20', 'Группа 3'],\n",
       " 'No 2': ['Петров П.В', '30', 'Группа 3'],\n",
       " 'No 3': ['Орлов Д.О', '25', 'Группа 1']}"
      ]
     },
     "execution_count": 12,
     "metadata": {},
     "output_type": "execute_result"
    }
   ],
   "source": [
    "list = ( ['No 1', 'Иванов И.А', '20','Группа 3'], ['No 2', 'Петров П.В', '30','Группа 3'], ['No 3', 'Орлов Д.О', '25','Группа 1'] )\n",
    "\n",
    "def list_to_dict(list):\n",
    "    new_dict = {}\n",
    "    for i in (list):\n",
    "        new_dict[i[0]] = i[1:4]\n",
    "    return(new_dict)\n",
    "        \n",
    "list_to_dict(list)"
   ]
  },
  {
   "cell_type": "code",
   "execution_count": 2,
   "metadata": {},
   "outputs": [],
   "source": [
    "# 7. Добавьте к задаче No6 для словаря возможность (без преобразования словаря обратно в список) изменить группу\n",
    "# студента. Поиск по «ФИО» («ФИО» студента и новый номер группы необходимо ввести с клавиатуры)."
   ]
  },
  {
   "cell_type": "code",
   "execution_count": 15,
   "metadata": {
    "scrolled": true
   },
   "outputs": [
    {
     "name": "stdout",
     "output_type": "stream",
     "text": [
      "введите ФИО студента: Иванов И.А\n",
      "введите новый номер группы: Группа 127\n",
      "{'No 1': ['Иванов И.А', '20', 'Группа 127'], 'No 2': ['Петров П.В', '30', 'Группа 3'], 'No 3': ['Орлов Д.О', '25', 'Группа 1']}\n"
     ]
    }
   ],
   "source": [
    "new_dict = list_to_dict(list)\n",
    "\n",
    "def group_change(new_dict):\n",
    "    x = input('введите ФИО студента: ')\n",
    "    f = False\n",
    "    for i in (new_dict):\n",
    "        b = new_dict[i]\n",
    "        if b[0] == x:\n",
    "            f = True\n",
    "            y = input('введите новый номер группы: ')\n",
    "            b[2] = y\n",
    "            \n",
    "    if f == False:\n",
    "        print('студент не найден')            \n",
    "\n",
    "group_change(new_dict)\n",
    "print(new_dict)"
   ]
  },
  {
   "cell_type": "code",
   "execution_count": 14,
   "metadata": {},
   "outputs": [],
   "source": [
    "# 8. Дана некоторая директория (папка). Посчитайте количество файлов в данной директории (папке) и выведите на экран."
   ]
  },
  {
   "cell_type": "code",
   "execution_count": 113,
   "metadata": {},
   "outputs": [
    {
     "data": {
      "text/plain": [
       "16"
      ]
     },
     "execution_count": 113,
     "metadata": {},
     "output_type": "execute_result"
    }
   ],
   "source": [
    "import os.path\n",
    "path = '/Users/qb/Desktop/HW'\n",
    "num_files = len([f for f in os.listdir(path)\n",
    "                if os.path.isfile(os.path.join(path, f))])\n",
    "num_files"
   ]
  }
 ],
 "metadata": {
  "kernelspec": {
   "display_name": "Python 3",
   "language": "python",
   "name": "python3"
  },
  "language_info": {
   "codemirror_mode": {
    "name": "ipython",
    "version": 3
   },
   "file_extension": ".py",
   "mimetype": "text/x-python",
   "name": "python",
   "nbconvert_exporter": "python",
   "pygments_lexer": "ipython3",
   "version": "3.6.5"
  }
 },
 "nbformat": 4,
 "nbformat_minor": 2
}
