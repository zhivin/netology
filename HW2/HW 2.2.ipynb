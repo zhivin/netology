{
 "cells": [
  {
   "cell_type": "code",
   "execution_count": null,
   "metadata": {},
   "outputs": [],
   "source": [
    "## Задание 1"
   ]
  },
  {
   "cell_type": "code",
   "execution_count": 22,
   "metadata": {},
   "outputs": [],
   "source": [
    "geo_logs = [\n",
    "['visit1', ['Москва', 'Россия']],\n",
    "['visit2', ['Дели', 'Индия']],\n",
    "['visit3', ['Владимир', 'Россия']],\n",
    "['visit4', ['Лиссабон', 'Португалия']],\n",
    "['visit5', ['Париж', 'Франция']],\n",
    "['visit6', ['Лиссабон', 'Португалия']],\n",
    "['visit7', ['Тула', 'Россия']],\n",
    "['visit8', ['Тула', 'Россия']],\n",
    "['visit9', ['Курск', 'Россия']],\n",
    "['visit10', ['Архангельск', 'Россия']],\n",
    "]\n"
   ]
  },
  {
   "cell_type": "code",
   "execution_count": 23,
   "metadata": {},
   "outputs": [
    {
     "name": "stdout",
     "output_type": "stream",
     "text": [
      "[['visit1', ['Москва', 'Россия']], ['visit3', ['Владимир', 'Россия']], ['visit7', ['Тула', 'Россия']], ['visit8', ['Тула', 'Россия']], ['visit9', ['Курск', 'Россия']], ['visit10', ['Архангельск', 'Россия']]]\n"
     ]
    }
   ],
   "source": [
    "a = []\n",
    "for i in geo_logs:\n",
    "    if i[1][1]=='Россия':\n",
    "        a.append(i)        \n",
    "\n",
    "print(a) \n"
   ]
  },
  {
   "cell_type": "code",
   "execution_count": null,
   "metadata": {},
   "outputs": [],
   "source": [
    "## Задание 2"
   ]
  },
  {
   "cell_type": "code",
   "execution_count": 20,
   "metadata": {},
   "outputs": [],
   "source": [
    "ids = {'user1': [213, 213, 213, 15, 213], 'user2': [54, 54, 119, 119, 119], 'user3': [213, 98, 98, 35]}"
   ]
  },
  {
   "cell_type": "code",
   "execution_count": 21,
   "metadata": {},
   "outputs": [
    {
     "name": "stdout",
     "output_type": "stream",
     "text": [
      "уникальные reo-id {98, 35, 15, 213, 54, 119}\n"
     ]
    }
   ],
   "source": [
    "a = []\n",
    "for i in ids:\n",
    "    a = a + ids[i]\n",
    "    \n",
    "print(f'уникальные reo-id {set(a)}')\n",
    "    \n",
    "      "
   ]
  },
  {
   "cell_type": "code",
   "execution_count": null,
   "metadata": {},
   "outputs": [],
   "source": [
    "## Задание 3"
   ]
  },
  {
   "cell_type": "code",
   "execution_count": 29,
   "metadata": {},
   "outputs": [],
   "source": [
    "queries = ['смотреть сериалы онлайн','новости спорта','афиша кино','курс доллара',\n",
    "'сериалы этим летом','курс по питону','сериалы про спорт',]"
   ]
  },
  {
   "cell_type": "code",
   "execution_count": 43,
   "metadata": {},
   "outputs": [
    {
     "name": "stdout",
     "output_type": "stream",
     "text": [
      "{3: 57, 2: 43}\n"
     ]
    }
   ],
   "source": [
    "result = {}\n",
    "total = 0\n",
    "\n",
    "for query in queries:\n",
    "    count = 0\n",
    "    for word in query.split(' '):\n",
    "        count = count + 1\n",
    "    if count not in result:\n",
    "        result[count] = 0\n",
    "    total = total + 1\n",
    "    result[count] = result[count] + 1\n",
    "\n",
    "for word_count in result:\n",
    "    result[word_count] = round(result[word_count] * 100 / total)\n",
    "    \n",
    "print(result)\n",
    "          "
   ]
  },
  {
   "cell_type": "code",
   "execution_count": null,
   "metadata": {},
   "outputs": [],
   "source": [
    "## Задание 4"
   ]
  },
  {
   "cell_type": "code",
   "execution_count": 24,
   "metadata": {},
   "outputs": [],
   "source": [
    "stats = {'facebook': 55, 'yandex': 120, 'vk': 115, 'google': 99, 'email': 42, 'ok': 98}"
   ]
  },
  {
   "cell_type": "code",
   "execution_count": 25,
   "metadata": {},
   "outputs": [
    {
     "data": {
      "text/plain": [
       "'yandex'"
      ]
     },
     "execution_count": 25,
     "metadata": {},
     "output_type": "execute_result"
    }
   ],
   "source": [
    "max_key = max(stats, key=lambda x: stats[x])\n",
    "max_key"
   ]
  },
  {
   "cell_type": "code",
   "execution_count": null,
   "metadata": {},
   "outputs": [],
   "source": [
    "## Задание 5 надо посчитать отношение суммы всех просмотров к количеству уникальных пользователей"
   ]
  },
  {
   "cell_type": "code",
   "execution_count": 3,
   "metadata": {},
   "outputs": [],
   "source": [
    "stream = [\n",
    "'2018-01-01,user1,3',\n",
    "'2018-01-07,user1,4',\n",
    "'2018-03-29,user1,1',\n",
    "'2018-04-04,user1,13',\n",
    "'2018-01-05,user2,7',\n",
    "'2018-06-14,user3,4',\n",
    "'2018-07-02,user3,10',\n",
    "'2018-03-21,user4,19',\n",
    "'2018-03-22,user4,4',\n",
    "'2018-04-22,user4,8',\n",
    "'2018-05-03,user4,9',\n",
    "'2018-05-11,user4,11',\n",
    "]"
   ]
  },
  {
   "cell_type": "code",
   "execution_count": 48,
   "metadata": {},
   "outputs": [
    {
     "name": "stdout",
     "output_type": "stream",
     "text": [
      "23.25\n"
     ]
    }
   ],
   "source": [
    "view_sum = 0\n",
    "users = []\n",
    "\n",
    "for line in stream:\n",
    "    Type = line.split(\",\")\n",
    "    x = Type[1]\n",
    "    y = int(Type[2])\n",
    "    view_sum = view_sum + y\n",
    "    if x not in users:\n",
    "        users.append(x)\n",
    "        \n",
    "print(view_sum / len(users))\n",
    "    "
   ]
  },
  {
   "cell_type": "code",
   "execution_count": null,
   "metadata": {},
   "outputs": [],
   "source": [
    "## Задание 6 "
   ]
  },
  {
   "cell_type": "code",
   "execution_count": 1,
   "metadata": {},
   "outputs": [],
   "source": [
    "stats = [\n",
    "['2018-01-01', 'google', 25],\n",
    "['2018-01-01', 'yandex', 65],\n",
    "['2018-01-01', 'market', 89],\n",
    "['2018-01-02', 'google', 574],\n",
    "['2018-01-02', 'yandex', 249],\n",
    "['2018-01-02', 'market', 994],\n",
    "['2018-01-03', 'google', 1843],\n",
    "['2018-01-03', 'yandex', 1327],\n",
    "['2018-01-03', 'market', 1764],\n",
    "]\n"
   ]
  },
  {
   "cell_type": "code",
   "execution_count": 4,
   "metadata": {},
   "outputs": [
    {
     "name": "stdout",
     "output_type": "stream",
     "text": [
      "введите дату:  gdsg\n",
      "укажите дата-компанию:  vdsc\n",
      "gdsg vdsc\n",
      "не корректный ввод\n"
     ]
    }
   ],
   "source": [
    "x = input('введите дату:  ')\n",
    "y = input('укажите дата-компанию:  ')\n",
    "\n",
    "result = False\n",
    "\n",
    "print(x,y)\n",
    "\n",
    "for i in stats:\n",
    "    if x == i[0] and y == i[1]:\n",
    "        result = i[2]\n",
    "        break  \n",
    "        \n",
    "if result != False: \n",
    "    print(result)\n",
    "else:\n",
    "    print('не корректный ввод')"
   ]
  }
 ],
 "metadata": {
  "kernelspec": {
   "display_name": "Python 3",
   "language": "python",
   "name": "python3"
  },
  "language_info": {
   "codemirror_mode": {
    "name": "ipython",
    "version": 3
   },
   "file_extension": ".py",
   "mimetype": "text/x-python",
   "name": "python",
   "nbconvert_exporter": "python",
   "pygments_lexer": "ipython3",
   "version": "3.6.5"
  }
 },
 "nbformat": 4,
 "nbformat_minor": 2
}
