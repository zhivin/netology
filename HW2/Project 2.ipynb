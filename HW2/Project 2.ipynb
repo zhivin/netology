{
 "cells": [
  {
   "cell_type": "markdown",
   "metadata": {},
   "source": [
    "1. Рассчитать основные статистики для переменных (среднее, медиана, мода, мин/макс, сред. отклонение)\n",
    "2. Рассчитать и визуализировать корреляционную матрицу для переменных\n",
    "3. Визуализировать несколько взаимосвязей между переменными\n",
    "4. С использованием t-test статистики проверить взаимосвязи между несколькими переменными\n",
    "5. Рассчитать сколько работников работает в каждом департаменте\n",
    "6. Показать распределение сотрудников по зарплатам\n",
    "7. Показать распределение сотрудников по зарплатам совместно с департаментами\n",
    "8. Сколько сотрудников покинули компанию\n",
    "9. Проверить несколько гипотез для данных, чтобы понять почему сотрудники покидают компанию"
   ]
  },
  {
   "cell_type": "code",
   "execution_count": 2,
   "metadata": {},
   "outputs": [],
   "source": [
    "import random\n",
    "import numpy as np\n",
    "import pandas as pd\n",
    "from scipy import stats\n",
    "import seaborn\n",
    "import seaborn as sns\n",
    "import matplotlib.pyplot as plt\n",
    "%matplotlib inline  "
   ]
  },
  {
   "cell_type": "code",
   "execution_count": null,
   "metadata": {},
   "outputs": [],
   "source": [
    "#Задание №1. Рассчитать основные статистики для переменных (среднее, медиана, мода, мин/макс, сред. отклонение)"
   ]
  },
  {
   "cell_type": "code",
   "execution_count": 89,
   "metadata": {},
   "outputs": [
    {
     "data": {
      "text/html": [
       "<div>\n",
       "<style scoped>\n",
       "    .dataframe tbody tr th:only-of-type {\n",
       "        vertical-align: middle;\n",
       "    }\n",
       "\n",
       "    .dataframe tbody tr th {\n",
       "        vertical-align: top;\n",
       "    }\n",
       "\n",
       "    .dataframe thead th {\n",
       "        text-align: right;\n",
       "    }\n",
       "</style>\n",
       "<table border=\"1\" class=\"dataframe\">\n",
       "  <thead>\n",
       "    <tr style=\"text-align: right;\">\n",
       "      <th></th>\n",
       "      <th>satisfaction_level</th>\n",
       "      <th>last_evaluation</th>\n",
       "      <th>number_project</th>\n",
       "      <th>average_montly_hours</th>\n",
       "      <th>time_spend_company</th>\n",
       "      <th>Work_accident</th>\n",
       "      <th>left</th>\n",
       "      <th>promotion_last_5years</th>\n",
       "      <th>salary</th>\n",
       "      <th>sales</th>\n",
       "    </tr>\n",
       "  </thead>\n",
       "  <tbody>\n",
       "    <tr>\n",
       "      <th>mean</th>\n",
       "      <td>0.612834</td>\n",
       "      <td>0.716102</td>\n",
       "      <td>3.803054</td>\n",
       "      <td>201.050337</td>\n",
       "      <td>3.498233</td>\n",
       "      <td>0.144610</td>\n",
       "      <td>0.238083</td>\n",
       "      <td>0.021268</td>\n",
       "      <td>NaN</td>\n",
       "      <td>NaN</td>\n",
       "    </tr>\n",
       "    <tr>\n",
       "      <th>std</th>\n",
       "      <td>0.248631</td>\n",
       "      <td>0.171169</td>\n",
       "      <td>1.232592</td>\n",
       "      <td>49.943099</td>\n",
       "      <td>1.460136</td>\n",
       "      <td>0.351719</td>\n",
       "      <td>0.425924</td>\n",
       "      <td>0.144281</td>\n",
       "      <td>NaN</td>\n",
       "      <td>NaN</td>\n",
       "    </tr>\n",
       "    <tr>\n",
       "      <th>min</th>\n",
       "      <td>0.090000</td>\n",
       "      <td>0.360000</td>\n",
       "      <td>2.000000</td>\n",
       "      <td>96.000000</td>\n",
       "      <td>2.000000</td>\n",
       "      <td>0.000000</td>\n",
       "      <td>0.000000</td>\n",
       "      <td>0.000000</td>\n",
       "      <td>NaN</td>\n",
       "      <td>NaN</td>\n",
       "    </tr>\n",
       "    <tr>\n",
       "      <th>max</th>\n",
       "      <td>1.000000</td>\n",
       "      <td>1.000000</td>\n",
       "      <td>7.000000</td>\n",
       "      <td>310.000000</td>\n",
       "      <td>10.000000</td>\n",
       "      <td>1.000000</td>\n",
       "      <td>1.000000</td>\n",
       "      <td>1.000000</td>\n",
       "      <td>NaN</td>\n",
       "      <td>NaN</td>\n",
       "    </tr>\n",
       "    <tr>\n",
       "      <th>median</th>\n",
       "      <td>0.640000</td>\n",
       "      <td>0.720000</td>\n",
       "      <td>4.000000</td>\n",
       "      <td>200.000000</td>\n",
       "      <td>3.000000</td>\n",
       "      <td>0.000000</td>\n",
       "      <td>0.000000</td>\n",
       "      <td>0.000000</td>\n",
       "      <td>NaN</td>\n",
       "      <td>NaN</td>\n",
       "    </tr>\n",
       "    <tr>\n",
       "      <th>mode</th>\n",
       "      <td>0.100000</td>\n",
       "      <td>0.550000</td>\n",
       "      <td>4.000000</td>\n",
       "      <td>135.000000</td>\n",
       "      <td>3.000000</td>\n",
       "      <td>0.000000</td>\n",
       "      <td>0.000000</td>\n",
       "      <td>0.000000</td>\n",
       "      <td>low</td>\n",
       "      <td>sales</td>\n",
       "    </tr>\n",
       "  </tbody>\n",
       "</table>\n",
       "</div>"
      ],
      "text/plain": [
       "        satisfaction_level  last_evaluation  number_project  \\\n",
       "mean              0.612834         0.716102        3.803054   \n",
       "std               0.248631         0.171169        1.232592   \n",
       "min               0.090000         0.360000        2.000000   \n",
       "max               1.000000         1.000000        7.000000   \n",
       "median            0.640000         0.720000        4.000000   \n",
       "mode              0.100000         0.550000        4.000000   \n",
       "\n",
       "        average_montly_hours  time_spend_company  Work_accident      left  \\\n",
       "mean              201.050337            3.498233       0.144610  0.238083   \n",
       "std                49.943099            1.460136       0.351719  0.425924   \n",
       "min                96.000000            2.000000       0.000000  0.000000   \n",
       "max               310.000000           10.000000       1.000000  1.000000   \n",
       "median            200.000000            3.000000       0.000000  0.000000   \n",
       "mode              135.000000            3.000000       0.000000  0.000000   \n",
       "\n",
       "        promotion_last_5years salary  sales  \n",
       "mean                 0.021268    NaN    NaN  \n",
       "std                  0.144281    NaN    NaN  \n",
       "min                  0.000000    NaN    NaN  \n",
       "max                  1.000000    NaN    NaN  \n",
       "median               0.000000    NaN    NaN  \n",
       "mode                 0.000000    low  sales  "
      ]
     },
     "execution_count": 89,
     "metadata": {},
     "output_type": "execute_result"
    }
   ],
   "source": [
    "data = pd.read_csv('hr.csv')\n",
    "data1 = data.describe()\n",
    "data1.drop(data1.index[[0,4,5,6]], inplace=True)\n",
    "\n",
    "def mode(df):\n",
    "    count = {}\n",
    "    for index, row in df.iterrows():\n",
    "        for key, value in row.iteritems():\n",
    "            if key not in count:\n",
    "                count[key] = {}  \n",
    "            if value not in count[key]:\n",
    "                count[key][value] = 1\n",
    "            else:\n",
    "                count[key][value] += 1               \n",
    " \n",
    "    modes = {}            \n",
    "    for key in count:\n",
    "        max_values = count[key]\n",
    "        maxp = 0\n",
    "        mode = None\n",
    "        \n",
    "        for value, amount in max_values.items():\n",
    "            if maxp < amount:\n",
    "                maxp = amount\n",
    "                mode = value\n",
    "            \n",
    "        modes[key] = mode\n",
    "        \n",
    "    return modes\n",
    "\n",
    "a = pd.Series(data = data.median(), name='median')\n",
    "data1 = data1.append(a)\n",
    "\n",
    "b = pd.Series(data = mode(data), name='mode')\n",
    "data1 = data1.append(b)\n",
    "\n",
    "data1"
   ]
  },
  {
   "cell_type": "code",
   "execution_count": 246,
   "metadata": {},
   "outputs": [],
   "source": [
    "#Задние №2 Рассчитать и визуализировать корреляционную матрицу для переменных"
   ]
  },
  {
   "cell_type": "code",
   "execution_count": 247,
   "metadata": {},
   "outputs": [
    {
     "data": {
      "text/plain": [
       "<matplotlib.axes._subplots.AxesSubplot at 0x1a36787d68>"
      ]
     },
     "execution_count": 247,
     "metadata": {},
     "output_type": "execute_result"
    },
    {
     "data": {
      "image/png": "[encoded data removed]",
      "text/plain": [
       "<Figure size 720x720 with 2 Axes>"
      ]
     },
     "metadata": {},
     "output_type": "display_data"
    }
   ],
   "source": [
    "corr = data.corr()\n",
    "\n",
    "from pylab import rcParams\n",
    "rcParams['figure.figsize'] = 10, 10\n",
    "\n",
    "sns.heatmap(corr, annot=True,\n",
    "            xticklabels=corr.columns.values,\n",
    "            yticklabels=corr.columns.values)"
   ]
  },
  {
   "cell_type": "code",
   "execution_count": 241,
   "metadata": {},
   "outputs": [],
   "source": [
    "#Задание №3 Визуализировать несколько взаимосвязей между переменными"
   ]
  },
  {
   "cell_type": "code",
   "execution_count": 244,
   "metadata": {},
   "outputs": [
    {
     "data": {
      "text/plain": [
       "Text(0,0.5,'оценка')"
      ]
     },
     "execution_count": 244,
     "metadata": {},
     "output_type": "execute_result"
    },
    {
     "data": {
      "image/png": "[encoded data removed]",
      "text/plain": [
       "<Figure size 432x288 with 1 Axes>"
      ]
     },
     "metadata": {},
     "output_type": "display_data"
    }
   ],
   "source": [
    "# взаимосвязь уровня удовлетворения работой и увольнением\n",
    "\n",
    "data=pd.read_csv('hr.csv')\n",
    "data = data.sort_values(by='satisfaction_level', ascending=False)\n",
    "\n",
    "satisfaction = [i for i in data['satisfaction_level']]\n",
    "left = [i for i in data['left']]\n",
    "\n",
    "left = np.cumsum( left )\n",
    "\n",
    "#from pylab import rcParams\n",
    "#rcParams['figure.figsize'] = 10, 10\n",
    "\n",
    "plt.plot(satisfaction, left)\n",
    "\n",
    "plt.xlabel('уровень удовлетворения')\n",
    "plt.ylabel('оценка')"
   ]
  },
  {
   "cell_type": "code",
   "execution_count": 245,
   "metadata": {},
   "outputs": [
    {
     "data": {
      "text/plain": [
       "Text(0,0.5,'кол-во лет в компании')"
      ]
     },
     "execution_count": 245,
     "metadata": {},
     "output_type": "execute_result"
    },
    {
     "data": {
      "image/png": "[encoded data removed]",
      "text/plain": [
       "<Figure size 432x288 with 1 Axes>"
      ]
     },
     "metadata": {},
     "output_type": "display_data"
    }
   ],
   "source": [
    "# взаимосвязь длительности работы в компании и количеством рабочих проектов\n",
    "\n",
    "data=pd.read_csv('hr.csv').groupby(['number_project'], as_index=False).mean()\n",
    "\n",
    "data = data.sort_values(by='average_montly_hours', ascending=False)\n",
    "\n",
    "projects = [i for i in data['number_project']]\n",
    "years = [i for i in data['time_spend_company']]\n",
    "\n",
    "#left = np.cumsum( left )\n",
    "\n",
    "#from pylab import rcParams\n",
    "#rcParams['figure.figsize'] = 10, 10\n",
    "\n",
    "plt.plot(projects, years)\n",
    "\n",
    "plt.xlabel('кол-во проектов')\n",
    "plt.ylabel('кол-во лет в компании')"
   ]
  },
  {
   "cell_type": "code",
   "execution_count": 254,
   "metadata": {
    "scrolled": true
   },
   "outputs": [
    {
     "data": {
      "text/plain": [
       "Text(0,0.5,'кол-во лет в компании')"
      ]
     },
     "execution_count": 254,
     "metadata": {},
     "output_type": "execute_result"
    },
    {
     "data": {
      "image/png": "[encoded data removed]",
      "text/plain": [
       "<Figure size 432x288 with 1 Axes>"
      ]
     },
     "metadata": {},
     "output_type": "display_data"
    }
   ],
   "source": [
    "# взаимосвязь длительности работы в компании и количеством рабочих проектов\n",
    "\n",
    "data=pd.read_csv('hr.csv').groupby(['time_spend_company'], as_index=False).mean()\n",
    "\n",
    "data = data.sort_values(by='average_montly_hours', ascending=False)\n",
    "\n",
    "projects = [i for i in data['promotion_last_5years']]\n",
    "years = [i for i in data['time_spend_company']]\n",
    "\n",
    "#left = np.cumsum( left )\n",
    "\n",
    "#from pylab import rcParams\n",
    "#rcParams['figure.figsize'] = 10, 10\n",
    "\n",
    "plt.plot(projects, years)\n",
    "\n",
    "plt.xlabel('кол-во повышений')\n",
    "plt.ylabel('кол-во лет в компании')\n"
   ]
  },
  {
   "cell_type": "code",
   "execution_count": 55,
   "metadata": {},
   "outputs": [],
   "source": [
    "#Задание №4 С использованием t-test статистики проверить взаимосвязи между несколькими переменными"
   ]
  },
  {
   "cell_type": "code",
   "execution_count": 278,
   "metadata": {},
   "outputs": [
    {
     "data": {
      "text/plain": [
       "Ttest_indResult(statistic=-4.76273109535092, pvalue=1.9413281282548522e-06)"
      ]
     },
     "execution_count": 278,
     "metadata": {},
     "output_type": "execute_result"
    }
   ],
   "source": [
    "cls1 = data[data['salary'] == 'low']['satisfaction_level']\n",
    "cls2 = data[data['salary'] == 'high']['satisfaction_level']\n",
    "\n",
    "stats.ttest_ind(cls1, cls2) "
   ]
  },
  {
   "cell_type": "code",
   "execution_count": 48,
   "metadata": {},
   "outputs": [
    {
     "data": {
      "text/plain": [
       "Ttest_indResult(statistic=492.4136472501141, pvalue=0.0)"
      ]
     },
     "execution_count": 48,
     "metadata": {},
     "output_type": "execute_result"
    }
   ],
   "source": [
    "stats.ttest_ind(data['Work_accident'], data['left'])  "
   ]
  },
  {
   "cell_type": "code",
   "execution_count": 49,
   "metadata": {},
   "outputs": [
    {
     "data": {
      "text/plain": [
       "Ttest_relResult(statistic=21.761240073900307, pvalue=2.1364262659381762e-103)"
      ]
     },
     "execution_count": 49,
     "metadata": {},
     "output_type": "execute_result"
    }
   ],
   "source": [
    "stats.ttest_rel(data['number_project'], data['time_spend_company'])  "
   ]
  },
  {
   "cell_type": "code",
   "execution_count": 239,
   "metadata": {},
   "outputs": [],
   "source": [
    "#Задание №5 Рассчитать сколько работников работает в каждом департаменте"
   ]
  },
  {
   "cell_type": "code",
   "execution_count": 250,
   "metadata": {},
   "outputs": [
    {
     "data": {
      "text/plain": [
       "sales          4140\n",
       "technical      2720\n",
       "support        2229\n",
       "IT             1227\n",
       "product_mng     902\n",
       "marketing       858\n",
       "RandD           787\n",
       "accounting      767\n",
       "hr              739\n",
       "management      630\n",
       "Name: sales, dtype: int64"
      ]
     },
     "execution_count": 250,
     "metadata": {},
     "output_type": "execute_result"
    }
   ],
   "source": [
    "data = pd.read_csv('hr.csv')\n",
    "data['sales'].value_counts().head(10)"
   ]
  },
  {
   "cell_type": "code",
   "execution_count": 238,
   "metadata": {},
   "outputs": [],
   "source": [
    "#Задание №6 Показать распределение сотрудников по зарплатам"
   ]
  },
  {
   "cell_type": "code",
   "execution_count": 91,
   "metadata": {},
   "outputs": [
    {
     "data": {
      "text/plain": [
       "low       7316\n",
       "medium    6446\n",
       "high      1237\n",
       "Name: salary, dtype: int64"
      ]
     },
     "execution_count": 91,
     "metadata": {},
     "output_type": "execute_result"
    },
    {
     "data": {
      "image/png": "[encoded data removed]",
      "text/plain": [
       "<Figure size 180x180 with 2 Axes>"
      ]
     },
     "metadata": {},
     "output_type": "display_data"
    }
   ],
   "source": [
    "seaborn.pairplot(data, vars=['salary'],) \n",
    "data['salary'].value_counts().head()"
   ]
  },
  {
   "cell_type": "code",
   "execution_count": 237,
   "metadata": {},
   "outputs": [],
   "source": [
    "#Задание №7 Показать распределение сотрудников по зарплатам совместно с департаментами"
   ]
  },
  {
   "cell_type": "code",
   "execution_count": 108,
   "metadata": {},
   "outputs": [
    {
     "data": {
      "text/plain": [
       "salary  sales      \n",
       "high    IT               83\n",
       "        RandD            51\n",
       "        accounting       74\n",
       "        hr               45\n",
       "        management      225\n",
       "        marketing        80\n",
       "        product_mng      68\n",
       "        sales           269\n",
       "        support         141\n",
       "        technical       201\n",
       "low     IT              609\n",
       "        RandD           364\n",
       "        accounting      358\n",
       "        hr              335\n",
       "        management      180\n",
       "        marketing       402\n",
       "        product_mng     451\n",
       "        sales          2099\n",
       "        support        1146\n",
       "        technical      1372\n",
       "medium  IT              535\n",
       "        RandD           372\n",
       "        accounting      335\n",
       "        hr              359\n",
       "        management      225\n",
       "        marketing       376\n",
       "        product_mng     383\n",
       "        sales          1772\n",
       "        support         942\n",
       "        technical      1147\n",
       "Name: sales, dtype: int64"
      ]
     },
     "execution_count": 108,
     "metadata": {},
     "output_type": "execute_result"
    }
   ],
   "source": [
    "data.groupby(['salary','sales'])['sales'].count()"
   ]
  },
  {
   "cell_type": "code",
   "execution_count": 9,
   "metadata": {},
   "outputs": [
    {
     "data": {
      "text/html": [
       "<div>\n",
       "<style scoped>\n",
       "    .dataframe tbody tr th:only-of-type {\n",
       "        vertical-align: middle;\n",
       "    }\n",
       "\n",
       "    .dataframe tbody tr th {\n",
       "        vertical-align: top;\n",
       "    }\n",
       "\n",
       "    .dataframe thead th {\n",
       "        text-align: right;\n",
       "    }\n",
       "</style>\n",
       "<table border=\"1\" class=\"dataframe\">\n",
       "  <thead>\n",
       "    <tr style=\"text-align: right;\">\n",
       "      <th></th>\n",
       "      <th>satisfaction_level</th>\n",
       "      <th>last_evaluation</th>\n",
       "      <th>number_project</th>\n",
       "      <th>average_montly_hours</th>\n",
       "      <th>time_spend_company</th>\n",
       "      <th>Work_accident</th>\n",
       "      <th>left</th>\n",
       "      <th>promotion_last_5years</th>\n",
       "      <th>sales</th>\n",
       "      <th>salary</th>\n",
       "    </tr>\n",
       "  </thead>\n",
       "  <tbody>\n",
       "    <tr>\n",
       "      <th>3808</th>\n",
       "      <td>0.85</td>\n",
       "      <td>0.92</td>\n",
       "      <td>4</td>\n",
       "      <td>151</td>\n",
       "      <td>3</td>\n",
       "      <td>1</td>\n",
       "      <td>0</td>\n",
       "      <td>0</td>\n",
       "      <td>IT</td>\n",
       "      <td>medium</td>\n",
       "    </tr>\n",
       "    <tr>\n",
       "      <th>5253</th>\n",
       "      <td>0.95</td>\n",
       "      <td>0.78</td>\n",
       "      <td>2</td>\n",
       "      <td>148</td>\n",
       "      <td>2</td>\n",
       "      <td>0</td>\n",
       "      <td>0</td>\n",
       "      <td>0</td>\n",
       "      <td>IT</td>\n",
       "      <td>low</td>\n",
       "    </tr>\n",
       "    <tr>\n",
       "      <th>5252</th>\n",
       "      <td>0.82</td>\n",
       "      <td>0.60</td>\n",
       "      <td>3</td>\n",
       "      <td>261</td>\n",
       "      <td>2</td>\n",
       "      <td>1</td>\n",
       "      <td>0</td>\n",
       "      <td>0</td>\n",
       "      <td>IT</td>\n",
       "      <td>medium</td>\n",
       "    </tr>\n",
       "    <tr>\n",
       "      <th>9000</th>\n",
       "      <td>0.82</td>\n",
       "      <td>0.89</td>\n",
       "      <td>4</td>\n",
       "      <td>275</td>\n",
       "      <td>3</td>\n",
       "      <td>0</td>\n",
       "      <td>0</td>\n",
       "      <td>0</td>\n",
       "      <td>IT</td>\n",
       "      <td>medium</td>\n",
       "    </tr>\n",
       "    <tr>\n",
       "      <th>8995</th>\n",
       "      <td>0.74</td>\n",
       "      <td>0.89</td>\n",
       "      <td>3</td>\n",
       "      <td>229</td>\n",
       "      <td>3</td>\n",
       "      <td>0</td>\n",
       "      <td>0</td>\n",
       "      <td>0</td>\n",
       "      <td>IT</td>\n",
       "      <td>medium</td>\n",
       "    </tr>\n",
       "  </tbody>\n",
       "</table>\n",
       "</div>"
      ],
      "text/plain": [
       "      satisfaction_level  last_evaluation  number_project  \\\n",
       "3808                0.85             0.92               4   \n",
       "5253                0.95             0.78               2   \n",
       "5252                0.82             0.60               3   \n",
       "9000                0.82             0.89               4   \n",
       "8995                0.74             0.89               3   \n",
       "\n",
       "      average_montly_hours  time_spend_company  Work_accident  left  \\\n",
       "3808                   151                   3              1     0   \n",
       "5253                   148                   2              0     0   \n",
       "5252                   261                   2              1     0   \n",
       "9000                   275                   3              0     0   \n",
       "8995                   229                   3              0     0   \n",
       "\n",
       "      promotion_last_5years sales  salary  \n",
       "3808                      0    IT  medium  \n",
       "5253                      0    IT     low  \n",
       "5252                      0    IT  medium  \n",
       "9000                      0    IT  medium  \n",
       "8995                      0    IT  medium  "
      ]
     },
     "execution_count": 9,
     "metadata": {},
     "output_type": "execute_result"
    }
   ],
   "source": [
    "sales_to_dep = data.sort_values(['sales'])\n",
    "sales_to_dep.head()"
   ]
  },
  {
   "cell_type": "code",
   "execution_count": 236,
   "metadata": {},
   "outputs": [],
   "source": [
    "#Задание №8 Сколько сотрудников покинули компанию"
   ]
  },
  {
   "cell_type": "code",
   "execution_count": 8,
   "metadata": {},
   "outputs": [
    {
     "data": {
      "text/plain": [
       "3571"
      ]
     },
     "execution_count": 8,
     "metadata": {},
     "output_type": "execute_result"
    }
   ],
   "source": [
    "data['left'].sum()"
   ]
  },
  {
   "cell_type": "code",
   "execution_count": 49,
   "metadata": {},
   "outputs": [],
   "source": [
    "#Задание №9 Проверить несколько гипотез для данных, чтобы понять почему сотрудники покидают компанию"
   ]
  },
  {
   "cell_type": "code",
   "execution_count": 52,
   "metadata": {},
   "outputs": [],
   "source": [
    "# гипотеза №1: сотрудники увольняются потому, что более 3-х лет и не получили повышения"
   ]
  },
  {
   "cell_type": "markdown",
   "metadata": {},
   "source": [
    "Результат фильтарций приведенных ниже подтверждает гипотезу №1"
   ]
  },
  {
   "cell_type": "code",
   "execution_count": 30,
   "metadata": {},
   "outputs": [
    {
     "data": {
      "text/plain": [
       "1928"
      ]
     },
     "execution_count": 30,
     "metadata": {},
     "output_type": "execute_result"
    }
   ],
   "source": [
    "left_not_promoted = data [ ( (data['time_spend_company'] > 3) & (data['left']==1) & (data['promotion_last_5years'] == 0) )]\n",
    "left_not_promoted['left'].sum()"
   ]
  },
  {
   "cell_type": "code",
   "execution_count": 31,
   "metadata": {},
   "outputs": [
    {
     "data": {
      "text/plain": [
       "4"
      ]
     },
     "execution_count": 31,
     "metadata": {},
     "output_type": "execute_result"
    }
   ],
   "source": [
    "left_promoted = data [ ( (data['time_spend_company'] > 3) & (data['left']==1) & (data['promotion_last_5years'] == 1) )]\n",
    "left_promoted['left'].sum()"
   ]
  },
  {
   "cell_type": "code",
   "execution_count": 53,
   "metadata": {},
   "outputs": [],
   "source": [
    "# гипотеза №2: сотрудники увольняются потому, что они работают много часов и у них низкая ЗП "
   ]
  },
  {
   "cell_type": "code",
   "execution_count": null,
   "metadata": {},
   "outputs": [],
   "source": [
    "Результат фильтарций приведенных ниже подтверждает гипотезу №1"
   ]
  },
  {
   "cell_type": "code",
   "execution_count": 39,
   "metadata": {},
   "outputs": [],
   "source": [
    "hours = [i for i in data['average_montly_hours']]\n",
    "\n",
    "sum_hours = sum(hours)\n",
    "num_hours = len(hours)\n",
    "avg_hours = sum_hours/num_hours"
   ]
  },
  {
   "cell_type": "code",
   "execution_count": 37,
   "metadata": {},
   "outputs": [
    {
     "data": {
      "text/plain": [
       "1145"
      ]
     },
     "execution_count": 37,
     "metadata": {},
     "output_type": "execute_result"
    }
   ],
   "source": [
    "many_hours_low = data [ ( (data['average_montly_hours'] > avg_hours) & (data['salary']== 'low') & (data['left'] == 1) )]\n",
    "many_hours_low['left'].sum()"
   ]
  },
  {
   "cell_type": "code",
   "execution_count": 38,
   "metadata": {},
   "outputs": [
    {
     "data": {
      "text/plain": [
       "32"
      ]
     },
     "execution_count": 38,
     "metadata": {},
     "output_type": "execute_result"
    }
   ],
   "source": [
    "many_hours_high = data [ ( (data['average_montly_hours'] > avg_hours) & (data['salary']== 'high') & (data['left'] == 1) )]\n",
    "many_hours_high['left'].sum()"
   ]
  }
 ],
 "metadata": {
  "kernelspec": {
   "display_name": "Python 3",
   "language": "python",
   "name": "python3"
  },
  "language_info": {
   "codemirror_mode": {
    "name": "ipython",
    "version": 3
   },
   "file_extension": ".py",
   "mimetype": "text/x-python",
   "name": "python",
   "nbconvert_exporter": "python",
   "pygments_lexer": "ipython3",
   "version": "3.6.5"
  }
 },
 "nbformat": 4,
 "nbformat_minor": 2
}
