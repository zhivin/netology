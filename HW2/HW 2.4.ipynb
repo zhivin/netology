{
 "cells": [
  {
   "cell_type": "code",
   "execution_count": null,
   "metadata": {},
   "outputs": [],
   "source": [
    "# Задание 1 Напишите функцию date_range, которая возвращает список дней между датами start_date и end_date. \n",
    "# Даты должны вводиться в формате YYYY-MM-DD."
   ]
  },
  {
   "cell_type": "code",
   "execution_count": 11,
   "metadata": {},
   "outputs": [],
   "source": [
    "from datetime import datetime\n",
    "from datetime import timedelta\n",
    "\n",
    "start_date = '2018-09-01'\n",
    "end_date = '2018-09-07'\n",
    "\n",
    "def data_range(start_date, end_date):\n",
    "    current_date_dt = datetime.strptime(start_date, '%Y-%m-%d') \n",
    "    end_date_dt = datetime.strptime(end_date, '%Y-%m-%d')\n",
    "\n",
    "    current_date = start_date \n",
    "\n",
    "    while current_date_dt < end_date_dt:\n",
    "        \n",
    "        current_date_dt = datetime.strptime(current_date,'%Y-%m-%d')\n",
    "        current_date_dt += timedelta(days=1)\n",
    "        current_date = current_date_dt.strftime('%Y-%m-%d')\n",
    "        \n",
    "        if current_date == start_date or current_date == end_date:\n",
    "            continue\n",
    "            \n",
    "        print(current_date)"
   ]
  },
  {
   "cell_type": "code",
   "execution_count": 12,
   "metadata": {},
   "outputs": [
    {
     "name": "stdout",
     "output_type": "stream",
     "text": [
      "2018-09-02\n",
      "2018-09-03\n",
      "2018-09-04\n",
      "2018-09-05\n",
      "2018-09-06\n"
     ]
    }
   ],
   "source": [
    "data_range(start_date, end_date)"
   ]
  },
  {
   "cell_type": "code",
   "execution_count": null,
   "metadata": {},
   "outputs": [],
   "source": [
    "# Задание 2 Дополните функцию из первого задания проверкой на корректность дат. В случае неверного формата или \n",
    "# если start_date > end_date должен возвращаться пустой список."
   ]
  },
  {
   "cell_type": "code",
   "execution_count": 9,
   "metadata": {},
   "outputs": [],
   "source": [
    "from datetime import datetime\n",
    "from datetime import timedelta\n",
    "\n",
    "start_date = '2018-09-01'\n",
    "end_date = '2018-01-07'\n",
    "\n",
    "def data_range(start_date, end_date): \n",
    "    try:\n",
    "        \n",
    "        if start_date > end_date:\n",
    "            return []\n",
    "        \n",
    "        current_date_dt = datetime.strptime(start_date, '%Y-%m-%d') \n",
    "        end_date_dt = datetime.strptime(end_date, '%Y-%m-%d')\n",
    "\n",
    "        current_date = start_date \n",
    "\n",
    "        while current_date_dt < end_date_dt:\n",
    "        \n",
    "            current_date_dt = datetime.strptime(current_date,'%Y-%m-%d')\n",
    "            current_date_dt += timedelta(days=1)\n",
    "            current_date = current_date_dt.strftime('%Y-%m-%d')\n",
    "        \n",
    "            if current_date == start_date or current_date == end_date:\n",
    "                    continue\n",
    "\n",
    "            print(current_date)\n",
    "\n",
    "    except ValueError:\n",
    "        return []"
   ]
  },
  {
   "cell_type": "code",
   "execution_count": 10,
   "metadata": {},
   "outputs": [
    {
     "data": {
      "text/plain": [
       "[]"
      ]
     },
     "execution_count": 10,
     "metadata": {},
     "output_type": "execute_result"
    }
   ],
   "source": [
    "data_range(start_date, end_date)"
   ]
  },
  {
   "cell_type": "code",
   "execution_count": null,
   "metadata": {},
   "outputs": [],
   "source": [
    "# Задание 3 Дан поток дат в формате YYYY-MM-DD, в которых встречаются некорректные значения:\n",
    "# stream = ['2018-04-02', '2018-02-29', '2018-19-02'] Напишите функцию, которая проверяет эти даты на корректность. \n",
    "# Т. е. для каждой даты возвращает True (дата корректна) или False (некорректная дата)."
   ]
  },
  {
   "cell_type": "code",
   "execution_count": 6,
   "metadata": {},
   "outputs": [],
   "source": [
    "stream = ['2018-04-02', '2018-02-29', '2018-19-02']"
   ]
  },
  {
   "cell_type": "code",
   "execution_count": 7,
   "metadata": {},
   "outputs": [],
   "source": [
    "def date_check(stream):\n",
    "    \n",
    "    for date in stream:\n",
    "        try:\n",
    "            date_datetime = datetime.strptime(date, '%Y-%m-%d' )\n",
    "            print(True)\n",
    "\n",
    "        except ValueError:\n",
    "            print(False)"
   ]
  },
  {
   "cell_type": "code",
   "execution_count": 8,
   "metadata": {},
   "outputs": [
    {
     "name": "stdout",
     "output_type": "stream",
     "text": [
      "True\n",
      "False\n",
      "False\n"
     ]
    }
   ],
   "source": [
    "date_check(stream)"
   ]
  },
  {
   "cell_type": "code",
   "execution_count": null,
   "metadata": {},
   "outputs": [],
   "source": [
    "# Задание 4 Напишите функцию, которая возвращает список дат с 1 по вчерашний день текущего месяца. Если дан 1 день \n",
    "# месяца, то возвращается список дней прошлого месяца."
   ]
  },
  {
   "cell_type": "code",
   "execution_count": 5,
   "metadata": {},
   "outputs": [
    {
     "name": "stdout",
     "output_type": "stream",
     "text": [
      "2018-05-01\n",
      "2018-05-02\n",
      "2018-05-03\n",
      "2018-05-04\n",
      "2018-05-05\n",
      "2018-05-06\n",
      "2018-05-07\n",
      "2018-05-08\n",
      "2018-05-09\n",
      "2018-05-10\n",
      "2018-05-11\n",
      "2018-05-12\n",
      "2018-05-13\n",
      "2018-05-14\n",
      "2018-05-15\n",
      "2018-05-16\n",
      "2018-05-17\n",
      "2018-05-18\n",
      "2018-05-19\n"
     ]
    }
   ],
   "source": [
    "from datetime import datetime\n",
    "from datetime import timedelta\n",
    "\n",
    "today = '2018-05-20'\n",
    "\n",
    "def data_range_2(start_date, end_date):\n",
    "    current_date_dt = datetime.strptime(start_date, '%Y-%m-%d') \n",
    "    end_date_dt = datetime.strptime(end_date, '%Y-%m-%d')\n",
    "\n",
    "    current_date = start_date \n",
    "\n",
    "    while current_date_dt <= end_date_dt:\n",
    "        \n",
    "        print(current_date)\n",
    "        \n",
    "        current_date_dt = datetime.strptime(current_date,'%Y-%m-%d')\n",
    "        current_date_dt += timedelta(days=1)\n",
    "        current_date = current_date_dt.strftime('%Y-%m-%d')\n",
    "        \n",
    "\n",
    "def days_round(today):\n",
    "    \n",
    "    today_dt = datetime.strptime(today,'%Y-%m-%d')\n",
    "                                 \n",
    "    if today_dt.day > 1:\n",
    "        yesterday = today_dt - timedelta(days=1)\n",
    "        data_range_2(today_dt.strftime('%Y-%m') + '-01', yesterday.strftime('%Y-%m-%d'))\n",
    "    else:\n",
    "        last_month = today_dt - timedelta(days=1)\n",
    "        data_range_2(last_month.strftime('%Y-%m') + '-01', last_month.strftime('%Y-%m-%d'))\n",
    "        \n",
    "days_round(today)    \n",
    "        "
   ]
  },
  {
   "cell_type": "code",
   "execution_count": null,
   "metadata": {},
   "outputs": [],
   "source": [
    "# Задание 5 Напишите функцию, которая возвращает точную дату в формате YYYY-MM-DD по фразе:\n",
    "1. 'today' - сегодняшнюю дату\n",
    "2. 'last monday' -  прошлый понедельник\n",
    "3. 'last day' - Последний день текущего месяца"
   ]
  },
  {
   "cell_type": "code",
   "execution_count": 125,
   "metadata": {},
   "outputs": [],
   "source": [
    "from datetime import datetime\n",
    "from datetime import timedelta\n",
    "import calendar\n",
    "\n",
    "now = datetime.now()\n",
    "today = now.strftime('%Y-%m-%d')\n",
    "\n",
    "def now_today(today):\n",
    "    print(today)\n",
    "    \n",
    "def last_monday(today):\n",
    "    today_dt = datetime.strptime(today,'%Y-%m-%d')\n",
    "    if today_dt.strftime('%w') == 1:\n",
    "        print(today)\n",
    "        \n",
    "    elif today_dt.strftime('%w') == 0:\n",
    "        l_monday = today_dt - timedelta(days = 6)\n",
    "        print(l_monday)\n",
    "        \n",
    "    else:\n",
    "        day_count = int(now.strftime('%w'))\n",
    "        today_dt = datetime.strptime(today,'%Y-%m-%d')\n",
    "        l_monday = today_dt - timedelta(days = (day_count - 1))\n",
    "        print(l_monday)\n",
    "        \n",
    "def last_day(now):\n",
    "    print(now.replace(day = calendar.monthrange(date.year, date.month)[1]))   \n",
    "                                    \n",
    "def day_function(string):\n",
    "    now = datetime.now()\n",
    "    today = now.strftime('%Y-%m-%d')\n",
    "    if string == 'today':\n",
    "        print(now_today(today))\n",
    "    elif string == 'last monday':\n",
    "        print(last_monday(today))\n",
    "    elif string == 'last day':\n",
    "        print(last_day(now))\n",
    "    else:\n",
    "        print('некорректный ввод')"
   ]
  },
  {
   "cell_type": "code",
   "execution_count": 126,
   "metadata": {},
   "outputs": [
    {
     "name": "stdout",
     "output_type": "stream",
     "text": [
      "2018-09-30 15:03:26.317474\n",
      "None\n"
     ]
    }
   ],
   "source": [
    "day_function('last day')"
   ]
  },
  {
   "cell_type": "code",
   "execution_count": null,
   "metadata": {},
   "outputs": [],
   "source": [
    "# Задание 6 Напишите функцию, которая разбивает на недели с понедельника по воскресенье интервал дат \n",
    "# между start_date и end_date. Считайте, что входные данные всегда корректны. \n",
    "# В ответ должны входить только полные недели."
   ]
  },
  {
   "cell_type": "code",
   "execution_count": 107,
   "metadata": {},
   "outputs": [],
   "source": [
    "from datetime import datetime\n",
    "from datetime import timedelta\n",
    "from calendar import calendar\n",
    "\n",
    "start_date = '2018-07-01'\n",
    "end_date = '2018-08-15'\n",
    "\n",
    "def data_range_3(start_date, end_date):\n",
    "    \n",
    "    current_date_dt = datetime.strptime(start_date, '%Y-%m-%d') \n",
    "    end_date_dt = datetime.strptime(end_date, '%Y-%m-%d')\n",
    "    \n",
    "    week_start = int(current_date_dt.strftime('%w'))\n",
    "    week_end = int(end_date_dt.strftime('%w'))\n",
    "    \n",
    "    if week_start == 0:\n",
    "        current_date_dt += timedelta(days = 1)\n",
    "        \n",
    "    elif week_start > 1:\n",
    "        current_date_dt += timedelta(days = 8 - week_start)\n",
    "        \n",
    "    if week_end > 0:\n",
    "        end_date_dt -= timedelta(days = week_end)\n",
    "        \n",
    "    if week_start >= week_end:\n",
    "        print('некорректный ввод')\n",
    "        return\n",
    "             \n",
    "    current_date = current_date_dt.strftime('%Y-%m-%d')\n",
    "    \n",
    "    week = []\n",
    "    weeks = []\n",
    "    \n",
    "    while current_date_dt <= end_date_dt:\n",
    "        \n",
    "        week.append(current_date)\n",
    "        \n",
    "        current_date_dt = datetime.strptime(current_date,'%Y-%m-%d')\n",
    "        current_date_dt += timedelta(days=1)\n",
    "        current_date = current_date_dt.strftime('%Y-%m-%d')\n",
    "        \n",
    "        if current_date_dt.strftime('%w') == '1':\n",
    "            weeks.append(week)\n",
    "            week = []\n",
    "            \n",
    "    print(weeks)"
   ]
  },
  {
   "cell_type": "code",
   "execution_count": 108,
   "metadata": {},
   "outputs": [
    {
     "name": "stdout",
     "output_type": "stream",
     "text": [
      "[['2018-07-02', '2018-07-03', '2018-07-04', '2018-07-05', '2018-07-06', '2018-07-07', '2018-07-08'], ['2018-07-09', '2018-07-10', '2018-07-11', '2018-07-12', '2018-07-13', '2018-07-14', '2018-07-15'], ['2018-07-16', '2018-07-17', '2018-07-18', '2018-07-19', '2018-07-20', '2018-07-21', '2018-07-22'], ['2018-07-23', '2018-07-24', '2018-07-25', '2018-07-26', '2018-07-27', '2018-07-28', '2018-07-29'], ['2018-07-30', '2018-07-31', '2018-08-01', '2018-08-02', '2018-08-03', '2018-08-04', '2018-08-05'], ['2018-08-06', '2018-08-07', '2018-08-08', '2018-08-09', '2018-08-10', '2018-08-11', '2018-08-12']]\n"
     ]
    }
   ],
   "source": [
    "data_range_3(start_date, end_date)"
   ]
  }
 ],
 "metadata": {
  "kernelspec": {
   "display_name": "Python 3",
   "language": "python",
   "name": "python3"
  },
  "language_info": {
   "codemirror_mode": {
    "name": "ipython",
    "version": 3
   },
   "file_extension": ".py",
   "mimetype": "text/x-python",
   "name": "python",
   "nbconvert_exporter": "python",
   "pygments_lexer": "ipython3",
   "version": "3.6.5"
  }
 },
 "nbformat": 4,
 "nbformat_minor": 2
}
