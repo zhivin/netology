{
 "cells": [
  {
   "cell_type": "code",
   "execution_count": 2,
   "metadata": {},
   "outputs": [],
   "source": [
    "# Задание 1: Существует массив Z = [1,2,3,4,5,6,7,8,9,10,11,12,13,14],\n",
    "# как из него создать массив R = [[1,2,3,4], [2,3,4,5], [3,4,5,6], ...,[11,12,13,14]]?"
   ]
  },
  {
   "cell_type": "code",
   "execution_count": 28,
   "metadata": {},
   "outputs": [
    {
     "data": {
      "text/plain": [
       "[[1, 2, 3, 4],\n",
       " [2, 3, 4, 5],\n",
       " [3, 4, 5, 6],\n",
       " [4, 5, 6, 7],\n",
       " [5, 6, 7, 8],\n",
       " [6, 7, 8, 9],\n",
       " [7, 8, 9, 10],\n",
       " [8, 9, 10, 11],\n",
       " [9, 10, 11, 12],\n",
       " [10, 11, 12, 13],\n",
       " [11, 12, 13, 14]]"
      ]
     },
     "execution_count": 28,
     "metadata": {},
     "output_type": "execute_result"
    }
   ],
   "source": [
    "import numpy as np\n",
    "z = [1,2,3,4,5,6,7,8,9,10,11,12,13,14]\n",
    "b = len(z)-3\n",
    "q = []\n",
    "for i in range(b):\n",
    "    q.append(z[i:i+4])\n",
    "q"
   ]
  },
  {
   "cell_type": "code",
   "execution_count": null,
   "metadata": {},
   "outputs": [],
   "source": [
    "# Задание 2: Дана произвольная матрица A. Рассчитать ранг матрицы A."
   ]
  },
  {
   "cell_type": "code",
   "execution_count": 126,
   "metadata": {},
   "outputs": [
    {
     "data": {
      "text/plain": [
       "5"
      ]
     },
     "execution_count": 126,
     "metadata": {},
     "output_type": "execute_result"
    }
   ],
   "source": [
    "A = np.random.uniform(1,100,(5,5))\n",
    "rank = np.linalg.matrix_rank(A)\n",
    "rank"
   ]
  },
  {
   "cell_type": "code",
   "execution_count": null,
   "metadata": {},
   "outputs": [],
   "source": [
    "# Задание 3: Найти лучший алгоритм для решения следующей задачи:\n",
    "# min (x1x4(x1+x2+x3)+x3)\n",
    "\n",
    "# Условия:\n",
    "# x1x2x3x4≥30\n",
    "# x1^2+x2^2+x3^2+x4^2=60\n",
    "# 2≤x1,x2,x3,x4≤6\n",
    "# Начальное приближение:\n",
    "# x=(1,5,5,1)"
   ]
  },
  {
   "cell_type": "code",
   "execution_count": 133,
   "metadata": {},
   "outputs": [
    {
     "ename": "SyntaxError",
     "evalue": "can't assign to operator (<ipython-input-133-fea64b952c1d>, line 3)",
     "output_type": "error",
     "traceback": [
      "\u001b[0;36m  File \u001b[0;32m\"<ipython-input-133-fea64b952c1d>\"\u001b[0;36m, line \u001b[0;32m3\u001b[0m\n\u001b[0;31m    x1*x1 + x2*x2 + x3*x3 + x4*x4 = 60\u001b[0m\n\u001b[0m    ^\u001b[0m\n\u001b[0;31mSyntaxError\u001b[0m\u001b[0;31m:\u001b[0m can't assign to operator\n"
     ]
    }
   ],
   "source": [
    "def jacobian(x):\n",
    "    x1*x2*x3*x4 >= 30\n",
    "    x1*x1 + x2*x2 + x3*x3 + x4*x4 = 60\n",
    "    x1 >= 2\n",
    "    x4 <= 6\n",
    "    return min(x1*x4*(x1+x2+x3)+x3)\n",
    "\n",
    "\n",
    "\n",
    "optimize.minimize(f, [1,1], method=\"Newton-CG\", jac=jacobian)"
   ]
  },
  {
   "cell_type": "code",
   "execution_count": null,
   "metadata": {},
   "outputs": [],
   "source": []
  }
 ],
 "metadata": {
  "kernelspec": {
   "display_name": "Python 3",
   "language": "python",
   "name": "python3"
  },
  "language_info": {
   "codemirror_mode": {
    "name": "ipython",
    "version": 3
   },
   "file_extension": ".py",
   "mimetype": "text/x-python",
   "name": "python",
   "nbconvert_exporter": "python",
   "pygments_lexer": "ipython3",
   "version": "3.6.5"
  }
 },
 "nbformat": 4,
 "nbformat_minor": 2
}
