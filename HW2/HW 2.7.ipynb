{
 "cells": [
  {
   "cell_type": "code",
   "execution_count": 2,
   "metadata": {},
   "outputs": [],
   "source": [
    "# Задание 1: Существует массив Z = [1,2,3,4,5,6,7,8,9,10,11,12,13,14],\n",
    "# как из него создать массив R = [[1,2,3,4], [2,3,4,5], [3,4,5,6], ...,[11,12,13,14]]?"
   ]
  },
  {
   "cell_type": "code",
   "execution_count": 28,
   "metadata": {},
   "outputs": [
    {
     "data": {
      "text/plain": [
       "[[1, 2, 3, 4],\n",
       " [2, 3, 4, 5],\n",
       " [3, 4, 5, 6],\n",
       " [4, 5, 6, 7],\n",
       " [5, 6, 7, 8],\n",
       " [6, 7, 8, 9],\n",
       " [7, 8, 9, 10],\n",
       " [8, 9, 10, 11],\n",
       " [9, 10, 11, 12],\n",
       " [10, 11, 12, 13],\n",
       " [11, 12, 13, 14]]"
      ]
     },
     "execution_count": 28,
     "metadata": {},
     "output_type": "execute_result"
    }
   ],
   "source": [
    "import numpy as np\n",
    "z = [1,2,3,4,5,6,7,8,9,10,11,12,13,14]\n",
    "b = len(z)-3\n",
    "q = []\n",
    "for i in range(b):\n",
    "    q.append(z[i:i+4])\n",
    "q"
   ]
  },
  {
   "cell_type": "code",
   "execution_count": null,
   "metadata": {},
   "outputs": [],
   "source": [
    "# Задание 2: Дана произвольная матрица A. Рассчитать ранг матрицы A."
   ]
  },
  {
   "cell_type": "code",
   "execution_count": 126,
   "metadata": {},
   "outputs": [
    {
     "data": {
      "text/plain": [
       "5"
      ]
     },
     "execution_count": 126,
     "metadata": {},
     "output_type": "execute_result"
    }
   ],
   "source": [
    "A = np.random.uniform(1,100,(5,5))\n",
    "rank = np.linalg.matrix_rank(A)\n",
    "rank"
   ]
  },
  {
   "cell_type": "code",
   "execution_count": null,
   "metadata": {},
   "outputs": [],
   "source": [
    "# Задание 3: Найти лучший алгоритм для решения следующей задачи:\n",
    "# min (x1x4(x1+x2+x3)+x3)\n",
    "\n",
    "# Условия:\n",
    "# x1x2x3x4≥30\n",
    "# x1^2+x2^2+x3^2+x4^2=60\n",
    "# 2≤x1,x2,x3,x4≤6\n",
    "# Начальное приближение:\n",
    "# x=(1,5,5,1)"
   ]
  },
  {
   "cell_type": "code",
   "execution_count": 1,
   "metadata": {},
   "outputs": [
    {
     "data": {
      "text/plain": [
       "     fun: 52.00000009701402\n",
       "     jac: array([28.,  4.,  5., 24.])\n",
       " message: 'Optimization terminated successfully.'\n",
       "    nfev: 30\n",
       "     nit: 5\n",
       "    njev: 5\n",
       "  status: 0\n",
       " success: True\n",
       "       x: array([2.        , 6.        , 4.00000002, 2.        ])"
      ]
     },
     "execution_count": 1,
     "metadata": {},
     "output_type": "execute_result"
    }
   ],
   "source": [
    "import numpy as np\n",
    "from scipy import optimize\n",
    "from scipy.optimize import Bounds\n",
    "\n",
    "def f(x):   \n",
    "    return (x[0]*x[3]*(x[0]+x[1]+x[2])+x[2])\n",
    "\n",
    "ineq_cons = {'type': 'ineq',\n",
    "             'fun' : lambda x: np.array(x[0]*x[1]*x[2]*x[3] - 30),\n",
    "             #'jac' : lambda x: np.array([[0, 0, 0, 0]])\n",
    "            }\n",
    "                                         \n",
    "eq_cons = {'type': 'eq',\n",
    "          'fun' : lambda x: np.array(x[0]**2 + x[1]**2 + x[2]**2 + x[3]**2 - 60),\n",
    "         #'jac' : lambda x: np.array([[x[0]*2, x[1]*2, x[2]*2, x[3]*2]])\n",
    "          }\n",
    "\n",
    "\n",
    "bounds = Bounds([2, 2, 2, 2], [6, 6, 6, 6])\n",
    "                                     \n",
    "x0 = np.array([1,5,5,1])\n",
    "\n",
    "optimize.minimize(f, x0, method='SLSQP',constraints=[eq_cons, ineq_cons], bounds=bounds)"
   ]
  }
 ],
 "metadata": {
  "kernelspec": {
   "display_name": "Python 3",
   "language": "python",
   "name": "python3"
  },
  "language_info": {
   "codemirror_mode": {
    "name": "ipython",
    "version": 3
   },
   "file_extension": ".py",
   "mimetype": "text/x-python",
   "name": "python",
   "nbconvert_exporter": "python",
   "pygments_lexer": "ipython3",
   "version": "3.6.5"
  }
 },
 "nbformat": 4,
 "nbformat_minor": 2
}
