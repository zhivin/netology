{
 "cells": [
  {
   "cell_type": "markdown",
   "metadata": {},
   "source": [
    "Домашняя работа\n",
    "Подробнее описание и данные находятся в файле Practice_1_2.ipynb (вложение Материалы к занятию). Это задание мы разберем на следующем занятии в кампусе. \n",
    "\n",
    "Наборы данных вида Transactions (несколько транзакций на одного клиента) трансформировать в таблицу, где cl_id будут уникальными (соответственно 4000 строк в train и 1000 строк в test\n",
    " \n",
    "Для каждого cl_id будет уникальное целевое событие target_flag, а также уникальный канал привлечения клиента channel_type (клиент привлекается лишь однажды и с самого начала его записи присваивается значение канала привлечения)\n",
    "При агрегации (pandas.DataFrame.groupby) по cl_id (или по связке cl_id, channel_type, target_flag) необходимо создавать производные фичи, идеи для таких фичей могут быть следующими:\n",
    "\n",
    "общая сумма транзакций по каждой из trx_category\n",
    "общая сумма транзакции по основным вылютам (напр. выделить рубли, доллары и евро - предположительно, это будут самые крупные категории)\n",
    "общая сумма транзакций по категориям MCC кодов (например, выбрать основные/популярные MCC коды). ВНИМАНИ! Некоторые MCC коды из train могут быть не представлены в test. Про MCC коды в целом: http://www.banki.ru/wikibank/mcc-kod/; Справочник MCC кодов: https://mcc-codes.ru/code; Про некоторые категории кэшбека Росбанка: https://mcc-codes.ru/card/rosbank-sverkh-plus;\n",
    "возможные агрегации по времени суток и дням недели - траты в выходные (праздники) или будни, в ночное время или в рабочее и т.д.\n",
    " \n",
    "Обязательная часть: провести первичный анализ данных - посмотреть распределения признаков, выделить самые популярные MCC, помотреть активность клиентов по дням недели/времени, какие категории транзакции (trx_category) наиболее популярны и т.д. Получить инсайты, которые в дальнейшем помогут вам правильно подготовить фичи\n",
    " \n",
    "Дополнительная часть: с отобранными фичами и полученными компонентами обучить модель (тип алгоритма на свой вкус, можно начать с линейной) и померить качество на локальном тестовом наборе данных (локальная валидация), который создается в этом ноутбуке. Метрика оценки качества - ROC AUC(https://en.wikipedia.org/wiki/Receiver_operating_characteristic)\n",
    " \n",
    "Задания принимаются в виде ноутбука с кодов/картинками выполненной обязательной части + указанием места в leaderboard при решении дополнительной"
   ]
  },
  {
   "cell_type": "code",
   "execution_count": 1,
   "metadata": {},
   "outputs": [],
   "source": [
    "import pandas as pd\n",
    "import numpy as np\n",
    "import matplotlib.pyplot as plt\n",
    "%matplotlib inline\n",
    "import datetime\n",
    "import numpy as np\n",
    "from sklearn.metrics import roc_auc_score\n",
    "import xgboost \n",
    "import statsmodels.api as sm\n",
    "import statsmodels.formula.api as smf\n",
    "from sklearn import svm\n",
    "from sklearn.metrics import roc_auc_score, roc_curve\n",
    "\n",
    "raw_df = pd.read_csv('rosbank_train.csv')\n",
    "raw_df = raw_df.drop(columns='target_sum', axis=1)"
   ]
  },
  {
   "cell_type": "code",
   "execution_count": 2,
   "metadata": {},
   "outputs": [],
   "source": [
    "def transaction_by_day_count(dataset):\n",
    "    dataset['day_of_transaction'] = dataset['TRDATETIME'].apply( lambda x: (datetime.datetime.strptime(x, '%d%b%y:%H:%M:%S')).strftime('%w') ) \n",
    "    tmp_df = dataset.groupby(['cl_id','day_of_transaction'])['day_of_transaction'].size().unstack().fillna(0).reset_index()\n",
    "    old_columns = [old_col for old_col in tmp_df.columns.tolist() if old_col in dataset['day_of_transaction'].unique()]\n",
    "    tmp_df.rename(columns={old_col: 'day_' + old_col for old_col in old_columns}, inplace=True)\n",
    "    return tmp_df"
   ]
  },
  {
   "cell_type": "code",
   "execution_count": 3,
   "metadata": {},
   "outputs": [],
   "source": [
    "#MCC_list = raw_df.MCC.value_counts().head(20).index.tolist()"
   ]
  },
  {
   "cell_type": "code",
   "execution_count": 4,
   "metadata": {},
   "outputs": [],
   "source": [
    "def trnx_by_hour_count(dataset):\n",
    "    dataset['hour_of_transaction'] = dataset['TRDATETIME'].apply( lambda x: (datetime.datetime.strptime(x, '%d%b%y:%H:%M:%S')).strftime('%H') ) \n",
    "    return dataset.groupby(['cl_id'])['hour_of_transaction'].size().unstack().fillna(0).reset_index()"
   ]
  },
  {
   "cell_type": "code",
   "execution_count": 5,
   "metadata": {},
   "outputs": [],
   "source": [
    "def transaction_by_hour1_count(dataset):\n",
    "    dataset['day_of_transaction'] = dataset['TRDATETIME'].apply( lambda x: (datetime.datetime.strptime(x, '%d%b%y:%H:%M:%S')).strftime('%H') ) \n",
    "    tmp_df = dataset.groupby(['cl_id','day_of_transaction'])['day_of_transaction'].size().unstack().fillna(0).reset_index()\n",
    "    old_columns = [old_col for old_col in tmp_df.columns.tolist() if old_col in dataset['day_of_transaction'].unique()]\n",
    "    tmp_df.rename(columns={old_col: 'hour_' + old_col for old_col in old_columns}, inplace=True)\n",
    "    return tmp_df"
   ]
  },
  {
   "cell_type": "code",
   "execution_count": 6,
   "metadata": {},
   "outputs": [],
   "source": [
    "import sqlite3\n",
    "conn = sqlite3.connect('transactions.db')\n",
    "raw_df.to_sql('transactions_raw', if_exists='replace', con=conn)\n",
    "df09 = pd.io.sql.read_sql(\"\"\"\n",
    "    select\n",
    "        cl_id,\n",
    "        target_flag,\n",
    "        sum(case when MCC = 5411 then amount else 0 end) as MCC5411,\n",
    "        sum(case when MCC = 6011 then amount else 0 end) as MCC6011,\n",
    "        sum(case when MCC = 5814 then amount else 0 end) as MCC5814,\n",
    "        sum(case when MCC = 5812 then amount else 0 end) as MCC5812,\n",
    "        sum(case when MCC = 5499 then amount else 0 end) as MCC5499,\n",
    "        sum(case when MCC = 5912 then amount else 0 end) as MCC5912,\n",
    "        sum(case when MCC = 5999 then amount else 0 end) as MCC5999,\n",
    "        \n",
    "/*----------------------avgerage amount----------------------------*/       \n",
    "        avg(case when MCC = 5411 then amount else 0 end) as MCC5411_avg,\n",
    "        avg(case when MCC = 6011 then amount else 0 end) as MCC6011_avg,\n",
    "        avg(case when MCC = 5814 then amount else 0 end) as MCC5814_avg,\n",
    "        avg(case when MCC = 5812 then amount else 0 end) as MCC5812_avg,\n",
    "        avg(case when MCC = 5499 then amount else 0 end) as MCC5499_avg,\n",
    "        avg(case when MCC = 5912 then amount else 0 end) as MCC5912_avg,\n",
    "        avg(case when MCC = 5999 then amount else 0 end) as MCC5999_avg\n",
    "        \n",
    "    from transactions_raw\n",
    "    group by 1, 2\n",
    "    order by 1\n",
    "    \"\"\", conn)"
   ]
  },
  {
   "cell_type": "code",
   "execution_count": 7,
   "metadata": {},
   "outputs": [],
   "source": [
    "df10 = raw_df.groupby(['cl_id']).agg({'amount':['sum','min','max']})\n",
    "df10 = df10.reset_index(col_level=1)\n",
    "df10.columns = df10.columns.get_level_values(1)\n",
    "df11 = transaction_by_day_count(raw_df)\n",
    "df12 = transaction_by_hour1_count(raw_df)\n",
    "df13 = df10.set_index('cl_id').join(df11)\n",
    "df14 = df13.join(df12.set_index('cl_id'))\n",
    "df15 = df14.join(df09.set_index('cl_id'))\n",
    "df16 = raw_df [ (raw_df['trx_category'].isin(['DEPOSIT','BACK_TRX','C2C_IN'])) ].groupby(['cl_id'])['amount'].sum()\n",
    "df17 = raw_df [ ~ (raw_df['trx_category'].isin(['DEPOSIT','BACK_TRX','C2C_IN'])) ].groupby(['cl_id'])['amount'].sum()\n",
    "df16 = df16.rename('total_income')\n",
    "df17 = df17.rename('total_outcome')\n",
    "df18 = df15.join(df16).join(df17)\n",
    "#df19 = df18['total_income'].map(lambda x: x pd.isnull(x)?0:x) - df18['total_outcome'] < df18['total_outcome'] / 2\n",
    "df18.replace({np.nan:0}, inplace=True)\n",
    "#df18['no_pay'] = df18['total_income']==0"
   ]
  },
  {
   "cell_type": "code",
   "execution_count": 8,
   "metadata": {},
   "outputs": [
    {
     "name": "stderr",
     "output_type": "stream",
     "text": [
      "/anaconda3/lib/python3.6/site-packages/pandas/core/frame.py:3694: SettingWithCopyWarning: \n",
      "A value is trying to be set on a copy of a slice from a DataFrame\n",
      "\n",
      "See the caveats in the documentation: http://pandas.pydata.org/pandas-docs/stable/indexing.html#indexing-view-versus-copy\n",
      "  errors=errors)\n"
     ]
    }
   ],
   "source": [
    "# Divide by 1.5 to limit the number of income categories\n",
    "df18[\"sum_cat\"] = np.ceil(df18[\"sum\"] / 150000)\n",
    "# Label those above 5 as 5\n",
    "df18[\"sum_cat\"].where(df18[\"sum_cat\"] != 0.0, 1.0, inplace=True)\n",
    "df18[\"sum_cat\"].where(df18[\"sum_cat\"] < 5, 5.0, inplace=True)\n",
    "\n",
    "from sklearn.model_selection import StratifiedShuffleSplit\n",
    "\n",
    "split = StratifiedShuffleSplit(n_splits=1, test_size=0.2, random_state=42)\n",
    "for train_index, test_index in split.split(df18, df18[\"sum_cat\"]):\n",
    "    strat_train_set = df18.iloc[train_index]\n",
    "    strat_test_set = df18.iloc[test_index]\n",
    "\n",
    "for set_ in (strat_train_set, strat_test_set):\n",
    "    set_.drop(\"sum_cat\", axis=1, inplace=True)\n",
    "    \n",
    "from sklearn.base import BaseEstimator, TransformerMixin\n",
    "\n",
    "class DataFrameSelector(BaseEstimator, TransformerMixin):\n",
    "    def __init__(self, attribute_names):\n",
    "        self.attribute_names = attribute_names\n",
    "    def fit(self, X, y=None):\n",
    "        return self\n",
    "    def transform(self, X):\n",
    "        return X[self.attribute_names].values"
   ]
  },
  {
   "cell_type": "code",
   "execution_count": 9,
   "metadata": {},
   "outputs": [],
   "source": [
    "from sklearn.pipeline import FeatureUnion\n",
    "from sklearn.pipeline import Pipeline\n",
    "from sklearn.preprocessing import StandardScaler, Imputer, LabelBinarizer\n",
    "\n",
    "num_attribs = strat_train_set.columns.drop([\"target_flag\"])\n",
    "\n",
    "num_pipeline = Pipeline([\n",
    "    ('selector', DataFrameSelector(num_attribs)),\n",
    "    ('imputer', Imputer(strategy=\"median\")),\n",
    "    ('std_scaler', StandardScaler()),\n",
    "])\n",
    "\n",
    "full_pipeline = FeatureUnion(transformer_list=[\n",
    "    (\"num_pipeline\", num_pipeline),\n",
    "])"
   ]
  },
  {
   "cell_type": "code",
   "execution_count": 10,
   "metadata": {},
   "outputs": [],
   "source": [
    "X_train = strat_train_set.drop(\"target_flag\", axis=1)\n",
    "y_train = strat_train_set[\"target_flag\"].copy()\n",
    "\n",
    "X_test = strat_test_set.drop(\"target_flag\", axis=1)\n",
    "y_test = strat_test_set[\"target_flag\"].copy()"
   ]
  },
  {
   "cell_type": "code",
   "execution_count": 11,
   "metadata": {},
   "outputs": [],
   "source": [
    "X_train_prepared = full_pipeline.fit_transform(X_train)\n",
    "X_test_prepared = full_pipeline.transform(X_test)"
   ]
  },
  {
   "cell_type": "code",
   "execution_count": 12,
   "metadata": {},
   "outputs": [
    {
     "data": {
      "text/plain": [
       "0.45937166383652484"
      ]
     },
     "execution_count": 12,
     "metadata": {},
     "output_type": "execute_result"
    }
   ],
   "source": [
    "from sklearn.metrics import mean_squared_error\n",
    "from sklearn.linear_model import LinearRegression\n",
    "\n",
    "lin_reg = LinearRegression().fit(X_train_prepared, y_train)\n",
    "y_pred = lin_reg.predict(X_test_prepared)\n",
    "mse = mean_squared_error(y_test, y_pred)\n",
    "rmse = np.sqrt(mse)\n",
    "rmse"
   ]
  },
  {
   "cell_type": "code",
   "execution_count": 13,
   "metadata": {},
   "outputs": [],
   "source": [
    "columns = list(X_train)\n",
    "columns.append('target_flag')\n",
    "\n",
    "train_df = pd.DataFrame(np.c_[X_train_prepared, y_train], columns=columns)\n",
    "test_df = pd.DataFrame(np.c_[X_test_prepared, y_test], columns=columns)\n",
    " "
   ]
  },
  {
   "cell_type": "code",
   "execution_count": 14,
   "metadata": {},
   "outputs": [],
   "source": [
    "import statsmodels.api as sm\n",
    "import statsmodels.formula.api as smf\n",
    "\n",
    "_iteration_cols = train_df.columns.drop('target_flag')\n",
    "\n",
    "def get_formula(_cols):\n",
    "    return 'target_flag ~ ' + \" + \".join(_cols)"
   ]
  },
  {
   "cell_type": "code",
   "execution_count": 15,
   "metadata": {},
   "outputs": [
    {
     "name": "stdout",
     "output_type": "stream",
     "text": [
      "RMSE: 0.4514294017703619\n",
      "R^2: 0.17513546939864066\n"
     ]
    }
   ],
   "source": [
    "lm = smf.ols(get_formula(_iteration_cols), train_df).fit()\n",
    "rss = np.sum(lm.resid ** 2)\n",
    "rmse = np.sqrt(rss / len(lm.resid))\n",
    "print(\"RMSE:\", rmse)\n",
    "print(\"R^2:\", lm.rsquared)"
   ]
  },
  {
   "cell_type": "code",
   "execution_count": 16,
   "metadata": {},
   "outputs": [
    {
     "data": {
      "text/html": [
       "<table class=\"simpletable\">\n",
       "<tr>\n",
       "        <td></td>           <th>coef</th>     <th>std err</th>      <th>t</th>      <th>P>|t|</th>  <th>[0.025</th>    <th>0.975]</th>  \n",
       "</tr>\n",
       "<tr>\n",
       "  <th>Intercept</th>     <td>    0.5543</td> <td>    0.007</td> <td>   77.154</td> <td> 0.000</td> <td>    0.540</td> <td>    0.568</td>\n",
       "</tr>\n",
       "<tr>\n",
       "  <th>sum</th>           <td>    0.0108</td> <td>    0.022</td> <td>    0.498</td> <td> 0.618</td> <td>   -0.032</td> <td>    0.053</td>\n",
       "</tr>\n",
       "<tr>\n",
       "  <th>min</th>           <td>    0.0051</td> <td>    0.007</td> <td>    0.703</td> <td> 0.482</td> <td>   -0.009</td> <td>    0.019</td>\n",
       "</tr>\n",
       "<tr>\n",
       "  <th>max</th>           <td>   -0.0045</td> <td>    0.026</td> <td>   -0.174</td> <td> 0.862</td> <td>   -0.055</td> <td>    0.046</td>\n",
       "</tr>\n",
       "<tr>\n",
       "  <th>cl_id</th>         <td>    0.0729</td> <td>    0.008</td> <td>    8.940</td> <td> 0.000</td> <td>    0.057</td> <td>    0.089</td>\n",
       "</tr>\n",
       "<tr>\n",
       "  <th>day_0</th>         <td>   -0.0049</td> <td>    0.017</td> <td>   -0.293</td> <td> 0.770</td> <td>   -0.037</td> <td>    0.028</td>\n",
       "</tr>\n",
       "<tr>\n",
       "  <th>day_1</th>         <td>    0.0361</td> <td>    0.020</td> <td>    1.790</td> <td> 0.074</td> <td>   -0.003</td> <td>    0.076</td>\n",
       "</tr>\n",
       "<tr>\n",
       "  <th>day_2</th>         <td>    0.0006</td> <td>    0.020</td> <td>    0.029</td> <td> 0.977</td> <td>   -0.039</td> <td>    0.040</td>\n",
       "</tr>\n",
       "<tr>\n",
       "  <th>day_3</th>         <td>    0.0054</td> <td>    0.020</td> <td>    0.268</td> <td> 0.789</td> <td>   -0.034</td> <td>    0.045</td>\n",
       "</tr>\n",
       "<tr>\n",
       "  <th>day_4</th>         <td>    0.0217</td> <td>    0.021</td> <td>    1.029</td> <td> 0.304</td> <td>   -0.020</td> <td>    0.063</td>\n",
       "</tr>\n",
       "<tr>\n",
       "  <th>day_5</th>         <td>    0.0168</td> <td>    0.020</td> <td>    0.841</td> <td> 0.400</td> <td>   -0.022</td> <td>    0.056</td>\n",
       "</tr>\n",
       "<tr>\n",
       "  <th>day_6</th>         <td>    0.0146</td> <td>    0.017</td> <td>    0.846</td> <td> 0.398</td> <td>   -0.019</td> <td>    0.048</td>\n",
       "</tr>\n",
       "<tr>\n",
       "  <th>hour_00</th>       <td>    0.0668</td> <td>    0.010</td> <td>    6.680</td> <td> 0.000</td> <td>    0.047</td> <td>    0.086</td>\n",
       "</tr>\n",
       "<tr>\n",
       "  <th>hour_01</th>       <td>    0.0179</td> <td>    0.008</td> <td>    2.343</td> <td> 0.019</td> <td>    0.003</td> <td>    0.033</td>\n",
       "</tr>\n",
       "<tr>\n",
       "  <th>hour_02</th>       <td>    0.0038</td> <td>    0.008</td> <td>    0.461</td> <td> 0.645</td> <td>   -0.012</td> <td>    0.020</td>\n",
       "</tr>\n",
       "<tr>\n",
       "  <th>hour_03</th>       <td>    0.0195</td> <td>    0.009</td> <td>    2.269</td> <td> 0.023</td> <td>    0.003</td> <td>    0.036</td>\n",
       "</tr>\n",
       "<tr>\n",
       "  <th>hour_04</th>       <td>    0.0063</td> <td>    0.009</td> <td>    0.697</td> <td> 0.486</td> <td>   -0.011</td> <td>    0.024</td>\n",
       "</tr>\n",
       "<tr>\n",
       "  <th>hour_05</th>       <td>    0.0088</td> <td>    0.009</td> <td>    1.001</td> <td> 0.317</td> <td>   -0.008</td> <td>    0.026</td>\n",
       "</tr>\n",
       "<tr>\n",
       "  <th>hour_06</th>       <td>   -0.0144</td> <td>    0.009</td> <td>   -1.626</td> <td> 0.104</td> <td>   -0.032</td> <td>    0.003</td>\n",
       "</tr>\n",
       "<tr>\n",
       "  <th>hour_07</th>       <td>   -0.0017</td> <td>    0.009</td> <td>   -0.194</td> <td> 0.846</td> <td>   -0.019</td> <td>    0.016</td>\n",
       "</tr>\n",
       "<tr>\n",
       "  <th>hour_08</th>       <td>    0.0001</td> <td>    0.009</td> <td>    0.015</td> <td> 0.988</td> <td>   -0.017</td> <td>    0.017</td>\n",
       "</tr>\n",
       "<tr>\n",
       "  <th>hour_09</th>       <td>    0.0094</td> <td>    0.009</td> <td>    1.081</td> <td> 0.280</td> <td>   -0.008</td> <td>    0.026</td>\n",
       "</tr>\n",
       "<tr>\n",
       "  <th>hour_10</th>       <td>   -0.0082</td> <td>    0.008</td> <td>   -1.007</td> <td> 0.314</td> <td>   -0.024</td> <td>    0.008</td>\n",
       "</tr>\n",
       "<tr>\n",
       "  <th>hour_11</th>       <td>   -0.0009</td> <td>    0.009</td> <td>   -0.104</td> <td> 0.917</td> <td>   -0.018</td> <td>    0.016</td>\n",
       "</tr>\n",
       "<tr>\n",
       "  <th>hour_12</th>       <td>   -0.0121</td> <td>    0.009</td> <td>   -1.376</td> <td> 0.169</td> <td>   -0.029</td> <td>    0.005</td>\n",
       "</tr>\n",
       "<tr>\n",
       "  <th>hour_13</th>       <td>    0.0050</td> <td>    0.009</td> <td>    0.579</td> <td> 0.562</td> <td>   -0.012</td> <td>    0.022</td>\n",
       "</tr>\n",
       "<tr>\n",
       "  <th>hour_14</th>       <td>    0.0144</td> <td>    0.008</td> <td>    1.710</td> <td> 0.087</td> <td>   -0.002</td> <td>    0.031</td>\n",
       "</tr>\n",
       "<tr>\n",
       "  <th>hour_15</th>       <td>   -0.0061</td> <td>    0.008</td> <td>   -0.730</td> <td> 0.465</td> <td>   -0.022</td> <td>    0.010</td>\n",
       "</tr>\n",
       "<tr>\n",
       "  <th>hour_16</th>       <td>   -0.0050</td> <td>    0.008</td> <td>   -0.602</td> <td> 0.547</td> <td>   -0.021</td> <td>    0.011</td>\n",
       "</tr>\n",
       "<tr>\n",
       "  <th>hour_17</th>       <td>    0.0126</td> <td>    0.008</td> <td>    1.484</td> <td> 0.138</td> <td>   -0.004</td> <td>    0.029</td>\n",
       "</tr>\n",
       "<tr>\n",
       "  <th>hour_18</th>       <td>   -0.0056</td> <td>    0.009</td> <td>   -0.625</td> <td> 0.532</td> <td>   -0.023</td> <td>    0.012</td>\n",
       "</tr>\n",
       "<tr>\n",
       "  <th>hour_19</th>       <td>    0.0019</td> <td>    0.009</td> <td>    0.213</td> <td> 0.831</td> <td>   -0.015</td> <td>    0.019</td>\n",
       "</tr>\n",
       "<tr>\n",
       "  <th>hour_20</th>       <td>   -0.0112</td> <td>    0.008</td> <td>   -1.324</td> <td> 0.186</td> <td>   -0.028</td> <td>    0.005</td>\n",
       "</tr>\n",
       "<tr>\n",
       "  <th>hour_21</th>       <td>   -0.0090</td> <td>    0.008</td> <td>   -1.065</td> <td> 0.287</td> <td>   -0.026</td> <td>    0.008</td>\n",
       "</tr>\n",
       "<tr>\n",
       "  <th>hour_22</th>       <td>    0.0113</td> <td>    0.008</td> <td>    1.415</td> <td> 0.157</td> <td>   -0.004</td> <td>    0.027</td>\n",
       "</tr>\n",
       "<tr>\n",
       "  <th>hour_23</th>       <td>    0.0028</td> <td>    0.008</td> <td>    0.351</td> <td> 0.725</td> <td>   -0.013</td> <td>    0.018</td>\n",
       "</tr>\n",
       "<tr>\n",
       "  <th>MCC5411</th>       <td>    0.0163</td> <td>    0.011</td> <td>    1.533</td> <td> 0.125</td> <td>   -0.005</td> <td>    0.037</td>\n",
       "</tr>\n",
       "<tr>\n",
       "  <th>MCC6011</th>       <td>    0.0517</td> <td>    0.023</td> <td>    2.248</td> <td> 0.025</td> <td>    0.007</td> <td>    0.097</td>\n",
       "</tr>\n",
       "<tr>\n",
       "  <th>MCC5814</th>       <td>    0.0240</td> <td>    0.013</td> <td>    1.871</td> <td> 0.061</td> <td>   -0.001</td> <td>    0.049</td>\n",
       "</tr>\n",
       "<tr>\n",
       "  <th>MCC5812</th>       <td>   -0.0101</td> <td>    0.034</td> <td>   -0.297</td> <td> 0.767</td> <td>   -0.077</td> <td>    0.057</td>\n",
       "</tr>\n",
       "<tr>\n",
       "  <th>MCC5499</th>       <td>    0.0134</td> <td>    0.018</td> <td>    0.760</td> <td> 0.447</td> <td>   -0.021</td> <td>    0.048</td>\n",
       "</tr>\n",
       "<tr>\n",
       "  <th>MCC5912</th>       <td>    0.0186</td> <td>    0.011</td> <td>    1.659</td> <td> 0.097</td> <td>   -0.003</td> <td>    0.041</td>\n",
       "</tr>\n",
       "<tr>\n",
       "  <th>MCC5999</th>       <td>    0.0516</td> <td>    0.015</td> <td>    3.550</td> <td> 0.000</td> <td>    0.023</td> <td>    0.080</td>\n",
       "</tr>\n",
       "<tr>\n",
       "  <th>MCC5411_avg</th>   <td>   -0.0124</td> <td>    0.009</td> <td>   -1.318</td> <td> 0.188</td> <td>   -0.031</td> <td>    0.006</td>\n",
       "</tr>\n",
       "<tr>\n",
       "  <th>MCC6011_avg</th>   <td>   -0.0788</td> <td>    0.011</td> <td>   -7.341</td> <td> 0.000</td> <td>   -0.100</td> <td>   -0.058</td>\n",
       "</tr>\n",
       "<tr>\n",
       "  <th>MCC5814_avg</th>   <td>    0.0048</td> <td>    0.011</td> <td>    0.421</td> <td> 0.673</td> <td>   -0.018</td> <td>    0.027</td>\n",
       "</tr>\n",
       "<tr>\n",
       "  <th>MCC5812_avg</th>   <td>   -0.0138</td> <td>    0.036</td> <td>   -0.387</td> <td> 0.698</td> <td>   -0.083</td> <td>    0.056</td>\n",
       "</tr>\n",
       "<tr>\n",
       "  <th>MCC5499_avg</th>   <td>   -0.0060</td> <td>    0.017</td> <td>   -0.353</td> <td> 0.724</td> <td>   -0.039</td> <td>    0.027</td>\n",
       "</tr>\n",
       "<tr>\n",
       "  <th>MCC5912_avg</th>   <td>   -0.0158</td> <td>    0.010</td> <td>   -1.590</td> <td> 0.112</td> <td>   -0.035</td> <td>    0.004</td>\n",
       "</tr>\n",
       "<tr>\n",
       "  <th>MCC5999_avg</th>   <td>   -0.0375</td> <td>    0.013</td> <td>   -2.790</td> <td> 0.005</td> <td>   -0.064</td> <td>   -0.011</td>\n",
       "</tr>\n",
       "<tr>\n",
       "  <th>total_income</th>  <td>   -0.0149</td> <td>    0.008</td> <td>   -1.809</td> <td> 0.071</td> <td>   -0.031</td> <td>    0.001</td>\n",
       "</tr>\n",
       "<tr>\n",
       "  <th>total_outcome</th> <td>    0.0132</td> <td>    0.022</td> <td>    0.596</td> <td> 0.551</td> <td>   -0.030</td> <td>    0.057</td>\n",
       "</tr>\n",
       "</table>"
      ],
      "text/plain": [
       "<class 'statsmodels.iolib.table.SimpleTable'>"
      ]
     },
     "execution_count": 16,
     "metadata": {},
     "output_type": "execute_result"
    }
   ],
   "source": [
    "lm_res = lm.summary()\n",
    "lm_res.tables[1]"
   ]
  },
  {
   "cell_type": "code",
   "execution_count": 17,
   "metadata": {},
   "outputs": [],
   "source": [
    "_iteration_cols = _iteration_cols.drop('day_2')\n",
    "_iteration_cols = _iteration_cols.drop('hour_08')\n",
    "_iteration_cols = _iteration_cols.drop('hour_07')\n",
    "_iteration_cols = _iteration_cols.drop('hour_19')\n",
    "_iteration_cols = _iteration_cols.drop('hour_11')\n",
    "\n",
    "_iteration_cols = _iteration_cols.drop('MCC5499_avg')\n",
    "_iteration_cols = _iteration_cols.drop('MCC5812_avg')\n",
    "_iteration_cols = _iteration_cols.drop('MCC5814_avg')"
   ]
  },
  {
   "cell_type": "code",
   "execution_count": 18,
   "metadata": {},
   "outputs": [
    {
     "name": "stdout",
     "output_type": "stream",
     "text": [
      "RMSE: 0.45146527061233593\n",
      "R^2: 0.17500438307234434\n"
     ]
    }
   ],
   "source": [
    "lm = smf.ols(get_formula(_iteration_cols), train_df).fit()\n",
    "rss = np.sum(lm.resid ** 2)\n",
    "rmse = np.sqrt(rss / len(lm.resid))\n",
    "print(\"RMSE:\", rmse)\n",
    "print(\"R^2:\", lm.rsquared)"
   ]
  },
  {
   "cell_type": "code",
   "execution_count": 19,
   "metadata": {},
   "outputs": [
    {
     "data": {
      "text/html": [
       "<table class=\"simpletable\">\n",
       "<tr>\n",
       "        <td></td>           <th>coef</th>     <th>std err</th>      <th>t</th>      <th>P>|t|</th>  <th>[0.025</th>    <th>0.975]</th>  \n",
       "</tr>\n",
       "<tr>\n",
       "  <th>Intercept</th>     <td>    0.5543</td> <td>    0.007</td> <td>   77.226</td> <td> 0.000</td> <td>    0.540</td> <td>    0.568</td>\n",
       "</tr>\n",
       "<tr>\n",
       "  <th>sum</th>           <td>    0.0080</td> <td>    0.021</td> <td>    0.388</td> <td> 0.698</td> <td>   -0.032</td> <td>    0.048</td>\n",
       "</tr>\n",
       "<tr>\n",
       "  <th>min</th>           <td>    0.0050</td> <td>    0.007</td> <td>    0.690</td> <td> 0.490</td> <td>   -0.009</td> <td>    0.019</td>\n",
       "</tr>\n",
       "<tr>\n",
       "  <th>max</th>           <td>   -0.0002</td> <td>    0.024</td> <td>   -0.007</td> <td> 0.995</td> <td>   -0.047</td> <td>    0.047</td>\n",
       "</tr>\n",
       "<tr>\n",
       "  <th>cl_id</th>         <td>    0.0731</td> <td>    0.008</td> <td>    9.019</td> <td> 0.000</td> <td>    0.057</td> <td>    0.089</td>\n",
       "</tr>\n",
       "<tr>\n",
       "  <th>day_0</th>         <td>   -0.0050</td> <td>    0.017</td> <td>   -0.304</td> <td> 0.761</td> <td>   -0.037</td> <td>    0.027</td>\n",
       "</tr>\n",
       "<tr>\n",
       "  <th>day_1</th>         <td>    0.0364</td> <td>    0.019</td> <td>    1.868</td> <td> 0.062</td> <td>   -0.002</td> <td>    0.075</td>\n",
       "</tr>\n",
       "<tr>\n",
       "  <th>day_3</th>         <td>    0.0055</td> <td>    0.020</td> <td>    0.284</td> <td> 0.776</td> <td>   -0.033</td> <td>    0.044</td>\n",
       "</tr>\n",
       "<tr>\n",
       "  <th>day_4</th>         <td>    0.0219</td> <td>    0.020</td> <td>    1.071</td> <td> 0.284</td> <td>   -0.018</td> <td>    0.062</td>\n",
       "</tr>\n",
       "<tr>\n",
       "  <th>day_5</th>         <td>    0.0162</td> <td>    0.020</td> <td>    0.823</td> <td> 0.411</td> <td>   -0.022</td> <td>    0.055</td>\n",
       "</tr>\n",
       "<tr>\n",
       "  <th>day_6</th>         <td>    0.0149</td> <td>    0.017</td> <td>    0.869</td> <td> 0.385</td> <td>   -0.019</td> <td>    0.048</td>\n",
       "</tr>\n",
       "<tr>\n",
       "  <th>hour_00</th>       <td>    0.0658</td> <td>    0.009</td> <td>    7.066</td> <td> 0.000</td> <td>    0.048</td> <td>    0.084</td>\n",
       "</tr>\n",
       "<tr>\n",
       "  <th>hour_01</th>       <td>    0.0180</td> <td>    0.008</td> <td>    2.360</td> <td> 0.018</td> <td>    0.003</td> <td>    0.033</td>\n",
       "</tr>\n",
       "<tr>\n",
       "  <th>hour_02</th>       <td>    0.0040</td> <td>    0.008</td> <td>    0.488</td> <td> 0.626</td> <td>   -0.012</td> <td>    0.020</td>\n",
       "</tr>\n",
       "<tr>\n",
       "  <th>hour_03</th>       <td>    0.0198</td> <td>    0.009</td> <td>    2.315</td> <td> 0.021</td> <td>    0.003</td> <td>    0.037</td>\n",
       "</tr>\n",
       "<tr>\n",
       "  <th>hour_04</th>       <td>    0.0059</td> <td>    0.009</td> <td>    0.665</td> <td> 0.506</td> <td>   -0.012</td> <td>    0.023</td>\n",
       "</tr>\n",
       "<tr>\n",
       "  <th>hour_05</th>       <td>    0.0088</td> <td>    0.009</td> <td>    1.024</td> <td> 0.306</td> <td>   -0.008</td> <td>    0.026</td>\n",
       "</tr>\n",
       "<tr>\n",
       "  <th>hour_06</th>       <td>   -0.0147</td> <td>    0.009</td> <td>   -1.718</td> <td> 0.086</td> <td>   -0.031</td> <td>    0.002</td>\n",
       "</tr>\n",
       "<tr>\n",
       "  <th>hour_09</th>       <td>    0.0094</td> <td>    0.008</td> <td>    1.161</td> <td> 0.246</td> <td>   -0.006</td> <td>    0.025</td>\n",
       "</tr>\n",
       "<tr>\n",
       "  <th>hour_10</th>       <td>   -0.0084</td> <td>    0.008</td> <td>   -1.062</td> <td> 0.288</td> <td>   -0.024</td> <td>    0.007</td>\n",
       "</tr>\n",
       "<tr>\n",
       "  <th>hour_12</th>       <td>   -0.0120</td> <td>    0.009</td> <td>   -1.404</td> <td> 0.160</td> <td>   -0.029</td> <td>    0.005</td>\n",
       "</tr>\n",
       "<tr>\n",
       "  <th>hour_13</th>       <td>    0.0049</td> <td>    0.009</td> <td>    0.574</td> <td> 0.566</td> <td>   -0.012</td> <td>    0.022</td>\n",
       "</tr>\n",
       "<tr>\n",
       "  <th>hour_14</th>       <td>    0.0141</td> <td>    0.008</td> <td>    1.686</td> <td> 0.092</td> <td>   -0.002</td> <td>    0.031</td>\n",
       "</tr>\n",
       "<tr>\n",
       "  <th>hour_15</th>       <td>   -0.0059</td> <td>    0.008</td> <td>   -0.712</td> <td> 0.476</td> <td>   -0.022</td> <td>    0.010</td>\n",
       "</tr>\n",
       "<tr>\n",
       "  <th>hour_16</th>       <td>   -0.0050</td> <td>    0.008</td> <td>   -0.607</td> <td> 0.544</td> <td>   -0.021</td> <td>    0.011</td>\n",
       "</tr>\n",
       "<tr>\n",
       "  <th>hour_17</th>       <td>    0.0129</td> <td>    0.008</td> <td>    1.525</td> <td> 0.127</td> <td>   -0.004</td> <td>    0.029</td>\n",
       "</tr>\n",
       "<tr>\n",
       "  <th>hour_18</th>       <td>   -0.0051</td> <td>    0.009</td> <td>   -0.588</td> <td> 0.557</td> <td>   -0.022</td> <td>    0.012</td>\n",
       "</tr>\n",
       "<tr>\n",
       "  <th>hour_20</th>       <td>   -0.0109</td> <td>    0.008</td> <td>   -1.313</td> <td> 0.189</td> <td>   -0.027</td> <td>    0.005</td>\n",
       "</tr>\n",
       "<tr>\n",
       "  <th>hour_21</th>       <td>   -0.0086</td> <td>    0.008</td> <td>   -1.022</td> <td> 0.307</td> <td>   -0.025</td> <td>    0.008</td>\n",
       "</tr>\n",
       "<tr>\n",
       "  <th>hour_22</th>       <td>    0.0115</td> <td>    0.008</td> <td>    1.445</td> <td> 0.149</td> <td>   -0.004</td> <td>    0.027</td>\n",
       "</tr>\n",
       "<tr>\n",
       "  <th>hour_23</th>       <td>    0.0027</td> <td>    0.008</td> <td>    0.340</td> <td> 0.734</td> <td>   -0.013</td> <td>    0.018</td>\n",
       "</tr>\n",
       "<tr>\n",
       "  <th>MCC5411</th>       <td>    0.0176</td> <td>    0.010</td> <td>    1.698</td> <td> 0.090</td> <td>   -0.003</td> <td>    0.038</td>\n",
       "</tr>\n",
       "<tr>\n",
       "  <th>MCC6011</th>       <td>    0.0522</td> <td>    0.023</td> <td>    2.295</td> <td> 0.022</td> <td>    0.008</td> <td>    0.097</td>\n",
       "</tr>\n",
       "<tr>\n",
       "  <th>MCC5814</th>       <td>    0.0283</td> <td>    0.008</td> <td>    3.466</td> <td> 0.001</td> <td>    0.012</td> <td>    0.044</td>\n",
       "</tr>\n",
       "<tr>\n",
       "  <th>MCC5812</th>       <td>   -0.0203</td> <td>    0.016</td> <td>   -1.296</td> <td> 0.195</td> <td>   -0.051</td> <td>    0.010</td>\n",
       "</tr>\n",
       "<tr>\n",
       "  <th>MCC5499</th>       <td>    0.0083</td> <td>    0.007</td> <td>    1.119</td> <td> 0.263</td> <td>   -0.006</td> <td>    0.023</td>\n",
       "</tr>\n",
       "<tr>\n",
       "  <th>MCC5912</th>       <td>    0.0181</td> <td>    0.011</td> <td>    1.621</td> <td> 0.105</td> <td>   -0.004</td> <td>    0.040</td>\n",
       "</tr>\n",
       "<tr>\n",
       "  <th>MCC5999</th>       <td>    0.0505</td> <td>    0.014</td> <td>    3.552</td> <td> 0.000</td> <td>    0.023</td> <td>    0.078</td>\n",
       "</tr>\n",
       "<tr>\n",
       "  <th>MCC5411_avg</th>   <td>   -0.0127</td> <td>    0.009</td> <td>   -1.350</td> <td> 0.177</td> <td>   -0.031</td> <td>    0.006</td>\n",
       "</tr>\n",
       "<tr>\n",
       "  <th>MCC6011_avg</th>   <td>   -0.0792</td> <td>    0.011</td> <td>   -7.403</td> <td> 0.000</td> <td>   -0.100</td> <td>   -0.058</td>\n",
       "</tr>\n",
       "<tr>\n",
       "  <th>MCC5912_avg</th>   <td>   -0.0157</td> <td>    0.010</td> <td>   -1.586</td> <td> 0.113</td> <td>   -0.035</td> <td>    0.004</td>\n",
       "</tr>\n",
       "<tr>\n",
       "  <th>MCC5999_avg</th>   <td>   -0.0369</td> <td>    0.013</td> <td>   -2.772</td> <td> 0.006</td> <td>   -0.063</td> <td>   -0.011</td>\n",
       "</tr>\n",
       "<tr>\n",
       "  <th>total_income</th>  <td>   -0.0150</td> <td>    0.008</td> <td>   -1.838</td> <td> 0.066</td> <td>   -0.031</td> <td>    0.001</td>\n",
       "</tr>\n",
       "<tr>\n",
       "  <th>total_outcome</th> <td>    0.0104</td> <td>    0.021</td> <td>    0.491</td> <td> 0.623</td> <td>   -0.031</td> <td>    0.052</td>\n",
       "</tr>\n",
       "</table>"
      ],
      "text/plain": [
       "<class 'statsmodels.iolib.table.SimpleTable'>"
      ]
     },
     "execution_count": 19,
     "metadata": {},
     "output_type": "execute_result"
    }
   ],
   "source": [
    "lm_res = lm.summary()\n",
    "lm_res.tables[1]"
   ]
  },
  {
   "cell_type": "code",
   "execution_count": 20,
   "metadata": {},
   "outputs": [
    {
     "name": "stdout",
     "output_type": "stream",
     "text": [
      "RMSE: 0.45146527061233593\n",
      "R^2: 0.17500438307234434\n"
     ]
    }
   ],
   "source": [
    "lm = smf.ols(get_formula(_iteration_cols), train_df).fit()\n",
    "rss = np.sum(lm.resid ** 2)\n",
    "rmse = np.sqrt(rss / len(lm.resid))\n",
    "print(\"RMSE:\", rmse)\n",
    "print(\"R^2:\", lm.rsquared)"
   ]
  },
  {
   "cell_type": "code",
   "execution_count": 21,
   "metadata": {},
   "outputs": [
    {
     "name": "stdout",
     "output_type": "stream",
     "text": [
      "Train:  0.88\n",
      "Test:  0.79\n"
     ]
    }
   ],
   "source": [
    "xgb = xgboost.XGBClassifier(max_depth=3, n_jobs=-1)\n",
    "xgb.fit(X_train, y_train)\n",
    "y_train_predict = xgb.predict_proba(X_train)[:, 1]\n",
    "y_test_predict = xgb.predict_proba(X_test)[:, 1]\n",
    "roc_auc_train = np.round(roc_auc_score(y_train, y_train_predict), 2)\n",
    "roc_auc_test = np.round(roc_auc_score(y_test, y_test_predict), 2)\n",
    "print(\"Train: \", roc_auc_train)\n",
    "print(\"Test: \", roc_auc_test)"
   ]
  },
  {
   "cell_type": "code",
   "execution_count": 22,
   "metadata": {},
   "outputs": [
    {
     "data": {
      "image/png": "[encoded data removed]",
      "text/plain": [
       "<Figure size 720x720 with 1 Axes>"
      ]
     },
     "metadata": {},
     "output_type": "display_data"
    }
   ],
   "source": [
    "import matplotlib\n",
    "fpr_train, tpr_train, thresholds_train = roc_curve(y_train, y_train_predict)\n",
    "fpr_test, tpr_test, thresholds_test = roc_curve(y_test, y_test_predict)\n",
    "\n",
    "matplotlib.rcParams['figure.figsize'] = (10.0, 10.0)\n",
    "plt.plot(fpr_train, tpr_train, label='Train ROC AUC {0}'.format(roc_auc_train))\n",
    "plt.plot(fpr_test, tpr_test, label='Test ROC AUC {0}'.format(roc_auc_test))\n",
    "plt.plot([0, 1], [0, 1], '--', color=(0.6, 0.6, 0.6))\n",
    "plt.xlim([0, 1])\n",
    "plt.ylim([0, 1])\n",
    "plt.xlabel('False Positive Rate')\n",
    "plt.ylabel('True Positive Rate')\n",
    "plt.title('XGB Classifier', size=16)\n",
    "plt.legend(loc='lower right')\n",
    "plt.show()"
   ]
  },
  {
   "cell_type": "code",
   "execution_count": 23,
   "metadata": {},
   "outputs": [
    {
     "data": {
      "image/png": "[encoded data removed]",
      "text/plain": [
       "<Figure size 720x720 with 1 Axes>"
      ]
     },
     "metadata": {},
     "output_type": "display_data"
    }
   ],
   "source": [
    "matplotlib.rcParams['figure.figsize'] = (10, 10)\n",
    "xgboost.plot_importance(booster=xgb)\n",
    "plt.savefig('tree_importance_test1.png')"
   ]
  }
 ],
 "metadata": {
  "kernelspec": {
   "display_name": "Python 3",
   "language": "python",
   "name": "python3"
  },
  "language_info": {
   "codemirror_mode": {
    "name": "ipython",
    "version": 3
   },
   "file_extension": ".py",
   "mimetype": "text/x-python",
   "name": "python",
   "nbconvert_exporter": "python",
   "pygments_lexer": "ipython3",
   "version": "3.6.5"
  }
 },
 "nbformat": 4,
 "nbformat_minor": 2
}
